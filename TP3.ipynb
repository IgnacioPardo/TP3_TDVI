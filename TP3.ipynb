{
 "cells": [
  {
   "cell_type": "markdown",
   "metadata": {},
   "source": [
    "## 1. Configuración\n",
    "Crearse una cuenta en Weights and Biases (o en su board favorito) y linkear la notebook a este. Cada experimento deberá contener nombres dicientes y almacenar los (hiper)parámetros de configuración del mismo. Deberá separar los sets de datos en entrenamiento, validación y test. Utilizando solamente los sets de entrenamiento y validación, registrar la loss en train y validación en cada iteración que considere conveniente"
   ]
  },
  {
   "cell_type": "code",
   "execution_count": null,
   "metadata": {},
   "outputs": [],
   "source": [
    "%pip install --pre torch torchvision torchaudio --extra-index-url https://download.pytorch.org/whl/nightly/cpu\n"
   ]
  },
  {
   "cell_type": "code",
   "execution_count": null,
   "metadata": {},
   "outputs": [],
   "source": [
    "%pip install scikit-learn wandb\n"
   ]
  },
  {
   "cell_type": "code",
   "execution_count": null,
   "metadata": {},
   "outputs": [],
   "source": [
    "%pip install torchview torchviz graphviz\n"
   ]
  },
  {
   "cell_type": "code",
   "execution_count": 2,
   "metadata": {},
   "outputs": [],
   "source": [
    "import torch\n",
    "import torch.utils.data\n",
    "import torch.optim as optim\n",
    "\n",
    "import torch.nn as nn\n",
    "import torch.nn.functional as F\n",
    "\n",
    "import torchvision\n",
    "import torchvision.transforms as transforms\n",
    "\n",
    "from torchview import draw_graph\n",
    "from torchviz import make_dot\n",
    "\n",
    "from sklearn.model_selection import train_test_split\n",
    "\n",
    "import numpy as np\n",
    "import matplotlib.pyplot as plt\n",
    "import wandb\n",
    "\n",
    "import ssl\n",
    "import os\n",
    "from tqdm import tqdm\n"
   ]
  },
  {
   "cell_type": "code",
   "execution_count": 3,
   "metadata": {},
   "outputs": [
    {
     "data": {
      "text/plain": [
       "device(type='mps', index=0)"
      ]
     },
     "execution_count": 3,
     "metadata": {},
     "output_type": "execute_result"
    }
   ],
   "source": [
    "# Como contamos con procesadores ARM M1, el backend para correr con la GPU es Metal, por lo que setiamos el device a MPS\n",
    "device = torch.device(\n",
    "    'mps:0' if torch.backends.mps.is_available() else 'cuda:0' if torch.cuda.is_available() else 'cpu'\n",
    "    )\n",
    "\n",
    "device\n"
   ]
  },
  {
   "cell_type": "code",
   "execution_count": 4,
   "metadata": {},
   "outputs": [
    {
     "name": "stderr",
     "output_type": "stream",
     "text": [
      "Failed to detect the name of this notebook, you can set it manually with the WANDB_NOTEBOOK_NAME environment variable to enable code saving.\n",
      "\u001b[34m\u001b[1mwandb\u001b[0m: Currently logged in as: \u001b[33mignacio-pardo\u001b[0m (\u001b[33mpardo\u001b[0m). Use \u001b[1m`wandb login --relogin`\u001b[0m to force relogin\n"
     ]
    },
    {
     "data": {
      "text/plain": [
       "True"
      ]
     },
     "execution_count": 4,
     "metadata": {},
     "output_type": "execute_result"
    }
   ],
   "source": [
    "wandb.login()\n"
   ]
  },
  {
   "cell_type": "code",
   "execution_count": null,
   "metadata": {},
   "outputs": [],
   "source": [
    "ssl._create_default_https_context = ssl._create_unverified_context\n"
   ]
  },
  {
   "cell_type": "code",
   "execution_count": 5,
   "metadata": {},
   "outputs": [],
   "source": [
    "# Chequeamos si la carpeta data existe, si no existe la creamos\n",
    "download = not os.path.isdir('./data')\n"
   ]
  },
  {
   "cell_type": "code",
   "execution_count": 6,
   "metadata": {},
   "outputs": [],
   "source": [
    "torch.manual_seed(181988)\n",
    "if torch.cuda.is_available():\n",
    "    torch.cuda.manual_seed(181988)\n"
   ]
  },
  {
   "cell_type": "code",
   "execution_count": 10,
   "metadata": {},
   "outputs": [],
   "source": [
    "batch_size = 16\n",
    "\n",
    "end_transform = transforms.Compose(\n",
    "    [\n",
    "        transforms.ToTensor(), \n",
    "        transforms.Normalize((0.5, 0.5, 0.5), (0.5, 0.5, 0.5))\n",
    "    ]\n",
    ")\n"
   ]
  },
  {
   "cell_type": "markdown",
   "metadata": {},
   "source": [
    "### Train Set y Validation Set"
   ]
  },
  {
   "cell_type": "code",
   "execution_count": 11,
   "metadata": {},
   "outputs": [],
   "source": [
    "# Descargamos el dataset CIFAR10 y lo guardamos en la variable train_set\n",
    "train_set = torchvision.datasets.CIFAR10(\n",
    "    root=\"./data\", train=True, download=download, transform=end_transform\n",
    ")\n",
    "\n",
    "# Guardamos en targets_ las etiquetas de las imágenes del dataset\n",
    "targets_ = train_set.targets\n",
    "\n",
    "# Dividimos el dataset en train y validation\n",
    "train_idx, val_idx = train_test_split(\n",
    "    np.arange(len(targets_)), test_size=0.2, stratify=targets_\n",
    ")\n",
    "\n",
    "# Creamos los samplers para train y validation\n",
    "train_sampler = torch.utils.data.SubsetRandomSampler(train_idx)\n",
    "val_sampler = torch.utils.data.SubsetRandomSampler(val_idx)\n",
    "\n",
    "# Creamos los dataloaders para train y validation\n",
    "train_loader = torch.utils.data.DataLoader(\n",
    "    train_set, sampler=train_sampler, batch_size=batch_size, num_workers=2\n",
    ")\n",
    "val_loader = torch.utils.data.DataLoader(\n",
    "    train_set, sampler=val_sampler, batch_size=batch_size, num_workers=2\n",
    ")\n"
   ]
  },
  {
   "cell_type": "markdown",
   "metadata": {},
   "source": [
    "### Test Set"
   ]
  },
  {
   "cell_type": "code",
   "execution_count": 12,
   "metadata": {},
   "outputs": [],
   "source": [
    "# Descargamos el dataset CIFAR10 y lo guardamos en la variable test_set\n",
    "test_set = torchvision.datasets.CIFAR10(\n",
    "    root=\"./data\", train=False, download=download, transform=end_transform\n",
    ")\n",
    "test_loader = torch.utils.data.DataLoader(\n",
    "    test_set, batch_size=batch_size, shuffle=False, num_workers=2\n",
    ")\n",
    "\n",
    "classes = (\n",
    "    \"plane\",\n",
    "    \"car\",\n",
    "    \"bird\",\n",
    "    \"cat\",\n",
    "    \"deer\",\n",
    "    \"dog\",\n",
    "    \"frog\",\n",
    "    \"horse\",\n",
    "    \"ship\",\n",
    "    \"truck\",\n",
    ")\n"
   ]
  },
  {
   "cell_type": "code",
   "execution_count": 13,
   "metadata": {},
   "outputs": [],
   "source": [
    "def set_transforms(transform):\n",
    "    global train_loader\n",
    "    global test_loader\n",
    "    global val_loader\n",
    "\n",
    "    train_loader.dataset.transform = transform\n",
    "    test_loader.dataset.transform = transform\n",
    "    val_loader.dataset.transform = transform\n",
    "\n",
    "def get_transforms():\n",
    "    return train_loader.dataset.transform\n"
   ]
  },
  {
   "cell_type": "markdown",
   "metadata": {},
   "source": [
    "### Visualizacion de Imagenes"
   ]
  },
  {
   "cell_type": "code",
   "execution_count": 14,
   "metadata": {},
   "outputs": [
    {
     "data": {
      "image/png": "[encoded data removed]",
      "text/plain": [
       "<Figure size 640x480 with 1 Axes>"
      ]
     },
     "metadata": {},
     "output_type": "display_data"
    },
    {
     "name": "stdout",
     "output_type": "stream",
     "text": [
      "deer  cat   plane ship  car   ship  plane truck truck cat   dog   car   dog   cat   car   plane\n"
     ]
    },
    {
     "data": {
      "text/plain": [
       "torch.Size([3, 32, 32])"
      ]
     },
     "execution_count": 14,
     "metadata": {},
     "output_type": "execute_result"
    }
   ],
   "source": [
    "%matplotlib inline\n",
    "\n",
    "# Funcion para mostrar imagenes\n",
    "def imshow(img):\n",
    "    img = img / 2 + 0.5     \n",
    "    npimg = img.numpy()\n",
    "    plt.imshow(np.transpose(npimg, (1, 2, 0)))\n",
    "    plt.show()\n",
    "\n",
    "# Tomar imagenes random\n",
    "data_iter = iter(train_loader)\n",
    "images, labels = next(data_iter)\n",
    "\n",
    "# Mostramos imagenes\n",
    "imshow(torchvision.utils.make_grid(images))\n",
    "\n",
    "# Printeamos las etiquetas de las imagenes\n",
    "print(' '.join(f'{classes[labels[j]]:5s}' for j in range(batch_size)))\n",
    "\n",
    "image_size = images[0].shape\n",
    "image_size\n"
   ]
  },
  {
   "cell_type": "markdown",
   "metadata": {},
   "source": [
    "## 2. Arquitectura\n",
    "Realizar experimentos variando cantidad de capas densas, nodos, hidden layers y reportar el mejor y peor experimento. ¿Qué estrategia utilizaron? ¿Qué resultados obtuvieron?"
   ]
  },
  {
   "cell_type": "markdown",
   "metadata": {},
   "source": [
    "### Neural Network\n",
    "\n",
    "#### Softmax Dropout Relu"
   ]
  },
  {
   "cell_type": "code",
   "execution_count": null,
   "metadata": {},
   "outputs": [],
   "source": [
    "class Net1(nn.Module):\n",
    "    def __init__(self):\n",
    "        super().__init__()\n",
    "        \n",
    "        self.fc1 = nn.Linear(32 * 32 * 3, 32 * 32 * 3)\n",
    "        self.fc21 = nn.Linear(32 * 32 * 3, 32 * 32)\n",
    "        self.d1 = nn.Dropout(0.2)\n",
    "        self.fc22 = nn.Linear(32 * 32, 800)\n",
    "        self.d2 = nn.Dropout(0.2)\n",
    "        self.fc23 = nn.Linear(800, 360)\n",
    "        self.fc24 = nn.Linear(360, 480)\n",
    "        self.fc25 = nn.Linear(480, 240)\n",
    "        self.fc26 = nn.Linear(240, 120)\n",
    "        self.d3 = nn.Dropout(0.2)\n",
    "        self.fc2 = nn.Linear(120, 90)\n",
    "        self.fc3 = nn.Linear(90, 24)\n",
    "        self.fc4 = nn.Linear(24, 10)\n",
    "\n",
    "    def forward(self, x):\n",
    "        x = torch.flatten(x, 1)  # flatten all dimensions except batch\n",
    "        x = F.relu(self.fc1(x))\n",
    "        x = F.relu(self.fc21(x))\n",
    "        x = self.d1(x)\n",
    "        x = F.leaky_relu(self.fc22(x))\n",
    "        x = self.d2(x)\n",
    "        x = F.leaky_relu(self.fc23(x))\n",
    "        x = F.leaky_relu(self.fc24(x))\n",
    "        x = F.leaky_relu(self.fc25(x))\n",
    "        x = F.leaky_relu(self.fc26(x))\n",
    "        x = self.d3(x)\n",
    "        x = F.leaky_relu(self.fc2(x))\n",
    "        x = self.fc3(x)\n",
    "        x = self.fc4(x)\n",
    "        x = F.log_softmax(x, dim=1)\n",
    "        return x\n",
    "\n",
    "net = Net1().to(device)\n",
    "\n",
    "set_transforms(end_transform)\n"
   ]
  },
  {
   "cell_type": "markdown",
   "metadata": {},
   "source": [
    "#### LeakyRelu Dropout"
   ]
  },
  {
   "cell_type": "code",
   "execution_count": null,
   "metadata": {},
   "outputs": [],
   "source": [
    "class Net2(nn.Module):\n",
    "    def __init__(self):\n",
    "        super().__init__()\n",
    "\n",
    "        self.fc1 = nn.Linear(32 * 32 * 3, 1024)\n",
    "        self.fc2 = nn.Linear(1024, 512)\n",
    "        self.d1 = nn.Dropout(0.4)\n",
    "        self.fc3 = nn.Linear(512, 256)\n",
    "        self.fc4 = nn.Linear(256, 128)\n",
    "        self.d2 = nn.Dropout(0.4)\n",
    "        self.fc5 = nn.Linear(128, 64)\n",
    "        self.fc6 = nn.Linear(64, 32)\n",
    "        self.d3 = nn.Dropout(0.4)\n",
    "        self.fc7 = nn.Linear(32, 16)\n",
    "        self.fc8 = nn.Linear(16, 8)\n",
    "        self.d4 = nn.Dropout(0.4)\n",
    "        self.fc9 = nn.Linear(8, 4)\n",
    "        self.fc10 = nn.Linear(4, 2)\n",
    "        self.d5 = nn.Dropout(0.4)\n",
    "\n",
    "    def forward(self, x):\n",
    "        x = torch.flatten(x, 1)\n",
    "        x = F.leaky_relu(self.fc1(x))\n",
    "        x = F.leaky_relu(self.fc2(x))\n",
    "        x = self.d1(x)\n",
    "        x = F.leaky_relu(self.fc3(x))\n",
    "        x = F.leaky_relu(self.fc4(x))\n",
    "        x = self.d2(x)\n",
    "        x = F.leaky_relu(self.fc5(x))\n",
    "        x = F.leaky_relu(self.fc6(x))\n",
    "        x = self.d3(x)\n",
    "        x = F.leaky_relu(self.fc7(x))\n",
    "        x = F.leaky_relu(self.fc8(x))\n",
    "        x = self.d4(x)\n",
    "        x = F.leaky_relu(self.fc9(x))\n",
    "        x = F.leaky_relu(self.fc10(x))\n",
    "        x = self.d5(x)\n",
    "        x = F.log_softmax(x, dim=1)\n",
    "        return x\n",
    "\n",
    "net = Net2().to(device)\n",
    "\n",
    "set_transforms(end_transform)\n"
   ]
  },
  {
   "cell_type": "markdown",
   "metadata": {},
   "source": [
    "#### Relu ELU LeakyRelu"
   ]
  },
  {
   "cell_type": "code",
   "execution_count": null,
   "metadata": {},
   "outputs": [],
   "source": [
    "class Net3(nn.Module):\n",
    "    def __init__(self):\n",
    "        super().__init__()\n",
    "\n",
    "        self.fc1 = nn.Linear(32 * 32 * 3, 512)\n",
    "        self.d1 = nn.Dropout(0.3)\n",
    "        self.fc2 = nn.Linear(512, 256)\n",
    "        self.fc3 = nn.Linear(256, 128)\n",
    "        self.fc4 = nn.Linear(128, 10)\n",
    "        self.d2 = nn.Dropout(0.3)\n",
    "        self.fc5 = nn.Linear(64, 10)\n",
    "        self.fc6 = nn.Linear(32, 10)\n",
    "        self.fc7 = nn.Linear(16, 10)\n",
    "        self.d3 = nn.Dropout(0.3)\n",
    "\n",
    "    def forward(self, x):\n",
    "        x = torch.flatten(x, 1)\n",
    "        x = F.relu(self.fc1(x))\n",
    "        x = self.d1(x)\n",
    "        x = F.elu(self.fc2(x))\n",
    "        x = F.leaky_relu(self.fc3(x))  \n",
    "        x = self.fc4(x)\n",
    "        x = self.d2(x)\n",
    "        x = F.elu(self.fc5(x))\n",
    "        x = F.leaky_relu(self.fc6(x))\n",
    "        x = F.leaky_relu(self.fc7(x))\n",
    "        x = self.d3(x)\n",
    "        x = F.log_softmax(x, dim=1)\n",
    "        return x\n",
    "\n",
    "net = Net3().to(device)\n",
    "\n",
    "set_transforms(end_transform)\n"
   ]
  },
  {
   "cell_type": "code",
   "execution_count": null,
   "metadata": {},
   "outputs": [],
   "source": [
    "nn_model = Net1()\n",
    "x = torch.randn(1, 3, 32, 32)\n",
    "y = nn_model(x)\n",
    "\n",
    "make_dot(y, params=dict(nn_model.named_parameters()))\n"
   ]
  },
  {
   "cell_type": "code",
   "execution_count": null,
   "metadata": {},
   "outputs": [],
   "source": [
    "nn_graph = draw_graph(nn_model, torch.zeros([1, 3, 32, 32]).to(device), expand_nested=True)\n",
    "nn_graph.visual_graph\n"
   ]
  },
  {
   "cell_type": "markdown",
   "metadata": {},
   "source": [
    "## 3. Arquitectura CNN\n",
    "Extienda el análisis utilizando capas convolucionales y reportar el mejor y peor experimento. ¿Cómo se compara?"
   ]
  },
  {
   "cell_type": "markdown",
   "metadata": {},
   "source": [
    "### NetConv"
   ]
  },
  {
   "cell_type": "code",
   "execution_count": null,
   "metadata": {},
   "outputs": [],
   "source": [
    "class NetConv(nn.Module):\n",
    "    def __init__(self):\n",
    "        super().__init__()\n",
    "        self.conv1 = nn.Conv2d(3, 6, 5)\n",
    "        self.pool = nn.MaxPool2d(2, 2)\n",
    "        self.conv2 = nn.Conv2d(6, 16, 5)\n",
    "        self.fc1 = nn.Linear(16 * 5 * 5, 120)\n",
    "        self.fc21 = nn.Linear(120, 120)\n",
    "        self.fc22 = nn.Linear(120, 120)\n",
    "        self.fc23 = nn.Linear(120, 120)\n",
    "        self.fc2 = nn.Linear(120, 84)\n",
    "        self.fc3 = nn.Linear(84, 10)\n",
    "\n",
    "    def forward(self, x):\n",
    "        x = self.pool(F.leaky_relu(self.conv1(x)))\n",
    "        x = self.pool(F.leaky_relu(self.conv2(x)))\n",
    "        x = torch.flatten(x, 1)  # flatten all dimensions except batch\n",
    "        x = F.leaky_relu(self.fc1(x))\n",
    "        x = F.leaky_relu(self.fc21(x))\n",
    "        x = F.leaky_relu(self.fc22(x))\n",
    "        x = F.leaky_relu(self.fc23(x))\n",
    "        x = F.leaky_relu(self.fc2(x))\n",
    "        x = self.fc3(x)\n",
    "        return x\n",
    "\n",
    "\n",
    "net = NetConv().to(device)\n",
    "\n",
    "set_transforms(end_transform)\n"
   ]
  },
  {
   "cell_type": "code",
   "execution_count": null,
   "metadata": {},
   "outputs": [],
   "source": [
    "conv_net_model = NetConv()\n",
    "x = torch.randn(1, 3, 32, 32)\n",
    "\n",
    "make_dot(conv_net_model(x), params=dict(conv_net_model.named_parameters()))\n"
   ]
  },
  {
   "cell_type": "code",
   "execution_count": null,
   "metadata": {},
   "outputs": [],
   "source": [
    "convnet_graph = draw_graph(conv_net_model, torch.zeros([1, 3, 32, 32]).to(device), expand_nested=True)\n",
    "convnet_graph.visual_graph\n"
   ]
  },
  {
   "cell_type": "markdown",
   "metadata": {},
   "source": [
    "### VGG16"
   ]
  },
  {
   "cell_type": "code",
   "execution_count": null,
   "metadata": {},
   "outputs": [],
   "source": [
    "class VGG16(nn.Module):\n",
    "    def __init__(self, num_classes=10):\n",
    "        super(VGG16, self).__init__()\n",
    "\n",
    "        self.transform = transforms.Compose(\n",
    "            [\n",
    "                transforms.Resize((224, 224)),\n",
    "                transforms.ToTensor(), \n",
    "                transforms.Normalize((0.5, 0.5, 0.5), (0.5, 0.5, 0.5))\n",
    "            ]\n",
    "        )\n",
    "        \n",
    "        self.layer1 = nn.Sequential(\n",
    "            nn.Conv2d(3, 64, kernel_size=3, stride=1, padding=1),\n",
    "            nn.BatchNorm2d(64),\n",
    "            nn.ReLU())\n",
    "        self.layer2 = nn.Sequential(\n",
    "            nn.Conv2d(64, 64, kernel_size=3, stride=1, padding=1),\n",
    "            nn.BatchNorm2d(64),\n",
    "            nn.ReLU(), \n",
    "            nn.MaxPool2d(kernel_size = 2, stride = 2))\n",
    "        self.layer3 = nn.Sequential(\n",
    "            nn.Conv2d(64, 128, kernel_size=3, stride=1, padding=1),\n",
    "            nn.BatchNorm2d(128),\n",
    "            nn.ReLU())\n",
    "        self.layer4 = nn.Sequential(\n",
    "            nn.Conv2d(128, 128, kernel_size=3, stride=1, padding=1),\n",
    "            nn.BatchNorm2d(128),\n",
    "            nn.ReLU(),\n",
    "            nn.MaxPool2d(kernel_size = 2, stride = 2))\n",
    "        self.layer5 = nn.Sequential(\n",
    "            nn.Conv2d(128, 256, kernel_size=3, stride=1, padding=1),\n",
    "            nn.BatchNorm2d(256),\n",
    "            nn.ReLU())\n",
    "        self.layer6 = nn.Sequential(\n",
    "            nn.Conv2d(256, 256, kernel_size=3, stride=1, padding=1),\n",
    "            nn.BatchNorm2d(256),\n",
    "            nn.ReLU())\n",
    "        self.layer7 = nn.Sequential(\n",
    "            nn.Conv2d(256, 256, kernel_size=3, stride=1, padding=1),\n",
    "            nn.BatchNorm2d(256),\n",
    "            nn.ReLU(),\n",
    "            nn.MaxPool2d(kernel_size = 2, stride = 2))\n",
    "        self.layer8 = nn.Sequential(\n",
    "            nn.Conv2d(256, 512, kernel_size=3, stride=1, padding=1),\n",
    "            nn.BatchNorm2d(512),\n",
    "            nn.ReLU())\n",
    "        self.layer9 = nn.Sequential(\n",
    "            nn.Conv2d(512, 512, kernel_size=3, stride=1, padding=1),\n",
    "            nn.BatchNorm2d(512),\n",
    "            nn.ReLU())\n",
    "        self.layer10 = nn.Sequential(\n",
    "            nn.Conv2d(512, 512, kernel_size=3, stride=1, padding=1),\n",
    "            nn.BatchNorm2d(512),\n",
    "            nn.ReLU(),\n",
    "            nn.MaxPool2d(kernel_size = 2, stride = 2))\n",
    "        self.layer11 = nn.Sequential(\n",
    "            nn.Conv2d(512, 512, kernel_size=3, stride=1, padding=1),\n",
    "            nn.BatchNorm2d(512),\n",
    "            nn.ReLU())\n",
    "        self.layer12 = nn.Sequential(\n",
    "            nn.Conv2d(512, 512, kernel_size=3, stride=1, padding=1),\n",
    "            nn.BatchNorm2d(512),\n",
    "            nn.ReLU())\n",
    "        self.layer13 = nn.Sequential(\n",
    "            nn.Conv2d(512, 512, kernel_size=3, stride=1, padding=1),\n",
    "            nn.BatchNorm2d(512),\n",
    "            nn.ReLU(),\n",
    "            nn.MaxPool2d(kernel_size = 2, stride = 2))\n",
    "        self.fc = nn.Sequential(\n",
    "            nn.Dropout(0.5),\n",
    "            nn.Linear(7*7*512, 4096),\n",
    "            nn.ReLU())\n",
    "        self.fc1 = nn.Sequential(\n",
    "            nn.Dropout(0.5),\n",
    "            nn.Linear(4096, 4096),\n",
    "            nn.ReLU())\n",
    "        self.fc2= nn.Sequential(\n",
    "            nn.Linear(4096, num_classes))\n",
    "        \n",
    "    def forward(self, x):\n",
    "        x = self.layer1(x)\n",
    "        x = self.layer2(x)\n",
    "        x = self.layer3(x)\n",
    "        x = self.layer4(x)\n",
    "        x = self.layer5(x)\n",
    "        x = self.layer6(x)\n",
    "        x = self.layer7(x)\n",
    "        x = self.layer8(x)\n",
    "        x = self.layer9(x)\n",
    "        x = self.layer10(x)\n",
    "        x = self.layer11(x)\n",
    "        x = self.layer12(x)\n",
    "        x = self.layer13(x)\n",
    "        x = x.reshape(x.size(0), -1)\n",
    "        x = self.fc(x)\n",
    "        x = self.fc1(x)\n",
    "        x = self.fc2(x)\n",
    "        return x\n",
    "\n",
    "\n",
    "net = VGG16().to(device)\n",
    "\n",
    "set_transforms(net.transform)"
   ]
  },
  {
   "cell_type": "code",
   "execution_count": null,
   "metadata": {},
   "outputs": [],
   "source": [
    "model = VGG16()\n",
    "model = model.to(device)\n",
    "\n",
    "dataiter = iter(test_loader)\n",
    "data = next(dataiter)\n",
    "test_images, test_labels = data[0].to(device), data[1].to(device)\n",
    "\n",
    "x = test_images[0]\n",
    "x = x.to(device)\n",
    "x = x.unsqueeze(0)\n",
    "\n",
    "make_dot(model(x), params=dict(model.named_parameters()))\n"
   ]
  },
  {
   "cell_type": "code",
   "execution_count": null,
   "metadata": {},
   "outputs": [],
   "source": [
    "vgg16_graph = draw_graph(model, test_images, expand_nested=True)\n",
    "vgg16_graph.visual_graph.save('plots/vgg16_graph.png')\n",
    "vgg16_graph.visual_graph\n"
   ]
  },
  {
   "cell_type": "markdown",
   "metadata": {},
   "source": [
    "### VGG19"
   ]
  },
  {
   "cell_type": "code",
   "execution_count": 15,
   "metadata": {},
   "outputs": [
    {
     "data": {
      "text/plain": [
       "VGG19(\n",
       "  (layer1): Sequential(\n",
       "    (0): Conv2d(3, 64, kernel_size=(3, 3), stride=(1, 1), padding=(1, 1))\n",
       "    (1): BatchNorm2d(64, eps=1e-05, momentum=0.1, affine=True, track_running_stats=True)\n",
       "    (2): ReLU(inplace=True)\n",
       "  )\n",
       "  (layer2): Sequential(\n",
       "    (0): Conv2d(64, 64, kernel_size=(3, 3), stride=(1, 1), padding=(1, 1))\n",
       "    (1): BatchNorm2d(64, eps=1e-05, momentum=0.1, affine=True, track_running_stats=True)\n",
       "    (2): ReLU(inplace=True)\n",
       "    (3): MaxPool2d(kernel_size=2, stride=2, padding=0, dilation=1, ceil_mode=False)\n",
       "  )\n",
       "  (layer3): Sequential(\n",
       "    (0): Conv2d(64, 128, kernel_size=(3, 3), stride=(1, 1), padding=(1, 1))\n",
       "    (1): BatchNorm2d(128, eps=1e-05, momentum=0.1, affine=True, track_running_stats=True)\n",
       "    (2): ReLU(inplace=True)\n",
       "  )\n",
       "  (layer4): Sequential(\n",
       "    (0): Conv2d(128, 128, kernel_size=(3, 3), stride=(1, 1), padding=(1, 1))\n",
       "    (1): BatchNorm2d(128, eps=1e-05, momentum=0.1, affine=True, track_running_stats=True)\n",
       "    (2): ReLU(inplace=True)\n",
       "    (3): MaxPool2d(kernel_size=2, stride=2, padding=0, dilation=1, ceil_mode=False)\n",
       "  )\n",
       "  (layer5): Sequential(\n",
       "    (0): Conv2d(128, 256, kernel_size=(3, 3), stride=(1, 1), padding=(1, 1))\n",
       "    (1): BatchNorm2d(256, eps=1e-05, momentum=0.1, affine=True, track_running_stats=True)\n",
       "    (2): ReLU(inplace=True)\n",
       "  )\n",
       "  (layer6): Sequential(\n",
       "    (0): Conv2d(256, 256, kernel_size=(3, 3), stride=(1, 1), padding=(1, 1))\n",
       "    (1): BatchNorm2d(256, eps=1e-05, momentum=0.1, affine=True, track_running_stats=True)\n",
       "    (2): ReLU(inplace=True)\n",
       "  )\n",
       "  (layer7): Sequential(\n",
       "    (0): Conv2d(256, 256, kernel_size=(3, 3), stride=(1, 1), padding=(1, 1))\n",
       "    (1): BatchNorm2d(256, eps=1e-05, momentum=0.1, affine=True, track_running_stats=True)\n",
       "    (2): ReLU(inplace=True)\n",
       "  )\n",
       "  (layer8): Sequential(\n",
       "    (0): Conv2d(256, 256, kernel_size=(3, 3), stride=(1, 1), padding=(1, 1))\n",
       "    (1): BatchNorm2d(256, eps=1e-05, momentum=0.1, affine=True, track_running_stats=True)\n",
       "    (2): ReLU(inplace=True)\n",
       "    (3): MaxPool2d(kernel_size=2, stride=2, padding=0, dilation=1, ceil_mode=False)\n",
       "  )\n",
       "  (layer9): Sequential(\n",
       "    (0): Conv2d(256, 512, kernel_size=(3, 3), stride=(1, 1), padding=(1, 1))\n",
       "    (1): BatchNorm2d(512, eps=1e-05, momentum=0.1, affine=True, track_running_stats=True)\n",
       "    (2): ReLU(inplace=True)\n",
       "  )\n",
       "  (layer10): Sequential(\n",
       "    (0): Conv2d(512, 512, kernel_size=(3, 3), stride=(1, 1), padding=(1, 1))\n",
       "    (1): BatchNorm2d(512, eps=1e-05, momentum=0.1, affine=True, track_running_stats=True)\n",
       "    (2): ReLU(inplace=True)\n",
       "  )\n",
       "  (layer11): Sequential(\n",
       "    (0): Conv2d(512, 512, kernel_size=(3, 3), stride=(1, 1), padding=(1, 1))\n",
       "    (1): BatchNorm2d(512, eps=1e-05, momentum=0.1, affine=True, track_running_stats=True)\n",
       "    (2): ReLU(inplace=True)\n",
       "  )\n",
       "  (layer12): Sequential(\n",
       "    (0): Conv2d(512, 512, kernel_size=(3, 3), stride=(1, 1), padding=(1, 1))\n",
       "    (1): BatchNorm2d(512, eps=1e-05, momentum=0.1, affine=True, track_running_stats=True)\n",
       "    (2): ReLU(inplace=True)\n",
       "    (3): MaxPool2d(kernel_size=2, stride=2, padding=0, dilation=1, ceil_mode=False)\n",
       "  )\n",
       "  (layer13): Sequential(\n",
       "    (0): Conv2d(512, 512, kernel_size=(3, 3), stride=(1, 1), padding=(1, 1))\n",
       "    (1): BatchNorm2d(512, eps=1e-05, momentum=0.1, affine=True, track_running_stats=True)\n",
       "    (2): ReLU(inplace=True)\n",
       "  )\n",
       "  (layer14): Sequential(\n",
       "    (0): Conv2d(512, 512, kernel_size=(3, 3), stride=(1, 1), padding=(1, 1))\n",
       "    (1): BatchNorm2d(512, eps=1e-05, momentum=0.1, affine=True, track_running_stats=True)\n",
       "    (2): ReLU(inplace=True)\n",
       "  )\n",
       "  (layer15): Sequential(\n",
       "    (0): Conv2d(512, 512, kernel_size=(3, 3), stride=(1, 1), padding=(1, 1))\n",
       "    (1): BatchNorm2d(512, eps=1e-05, momentum=0.1, affine=True, track_running_stats=True)\n",
       "    (2): ReLU(inplace=True)\n",
       "  )\n",
       "  (layer16): Sequential(\n",
       "    (0): Conv2d(512, 512, kernel_size=(3, 3), stride=(1, 1), padding=(1, 1))\n",
       "    (1): BatchNorm2d(512, eps=1e-05, momentum=0.1, affine=True, track_running_stats=True)\n",
       "    (2): ReLU(inplace=True)\n",
       "    (3): MaxPool2d(kernel_size=2, stride=2, padding=0, dilation=1, ceil_mode=False)\n",
       "  )\n",
       "  (fc): Sequential(\n",
       "    (0): Linear(in_features=25088, out_features=4096, bias=True)\n",
       "    (1): ReLU(inplace=True)\n",
       "    (2): Dropout(p=0.5, inplace=False)\n",
       "  )\n",
       "  (fc1): Sequential(\n",
       "    (0): Linear(in_features=4096, out_features=4096, bias=True)\n",
       "    (1): ReLU(inplace=True)\n",
       "    (2): Dropout(p=0.5, inplace=False)\n",
       "  )\n",
       "  (fc2): Sequential(\n",
       "    (0): Linear(in_features=4096, out_features=1000, bias=True)\n",
       "  )\n",
       ")"
      ]
     },
     "execution_count": 15,
     "metadata": {},
     "output_type": "execute_result"
    }
   ],
   "source": [
    "class VGG19(nn.Module):\n",
    "    def __init__(self, num_classes=1000):\n",
    "        super(VGG19, self).__init__()\n",
    "        \n",
    "        self.transform = transforms.Compose(\n",
    "            [\n",
    "                transforms.Resize((224, 224)),\n",
    "                transforms.ToTensor(), \n",
    "                transforms.Normalize((0.5, 0.5, 0.5), (0.5, 0.5, 0.5))\n",
    "            ]\n",
    "        )\n",
    "        \n",
    "        self.layer1 = nn.Sequential(\n",
    "            nn.Conv2d(3, 64, kernel_size=3, padding=1),\n",
    "            nn.BatchNorm2d(64),\n",
    "            nn.ReLU(inplace=True))\n",
    "        self.layer2 = nn.Sequential(\n",
    "            nn.Conv2d(64, 64, kernel_size=3, padding=1),\n",
    "            nn.BatchNorm2d(64),\n",
    "            nn.ReLU(inplace=True),\n",
    "            nn.MaxPool2d(kernel_size=2, stride=2))\n",
    "        self.layer3 = nn.Sequential(\n",
    "            nn.Conv2d(64, 128, kernel_size=3, padding=1),\n",
    "            nn.BatchNorm2d(128),\n",
    "            nn.ReLU(inplace=True))\n",
    "        self.layer4 = nn.Sequential(\n",
    "            nn.Conv2d(128, 128, kernel_size=3, padding=1),\n",
    "            nn.BatchNorm2d(128),\n",
    "            nn.ReLU(inplace=True),\n",
    "            nn.MaxPool2d(kernel_size=2, stride=2))\n",
    "        self.layer5 = nn.Sequential(\n",
    "            nn.Conv2d(128, 256, kernel_size=3, padding=1),\n",
    "            nn.BatchNorm2d(256),\n",
    "            nn.ReLU(inplace=True))\n",
    "        self.layer6 = nn.Sequential(\n",
    "            nn.Conv2d(256, 256, kernel_size=3, padding=1),\n",
    "            nn.BatchNorm2d(256),\n",
    "            nn.ReLU(inplace=True))\n",
    "        self.layer7 = nn.Sequential(\n",
    "            nn.Conv2d(256, 256, kernel_size=3, padding=1),\n",
    "            nn.BatchNorm2d(256),\n",
    "            nn.ReLU(inplace=True))\n",
    "        self.layer8 = nn.Sequential(\n",
    "            nn.Conv2d(256, 256, kernel_size=3, padding=1),\n",
    "            nn.BatchNorm2d(256),\n",
    "            nn.ReLU(inplace=True),\n",
    "            nn.MaxPool2d(kernel_size=2, stride=2))\n",
    "        self.layer9 = nn.Sequential(\n",
    "            nn.Conv2d(256, 512, kernel_size=3, padding=1),\n",
    "            nn.BatchNorm2d(512),\n",
    "            nn.ReLU(inplace=True))\n",
    "        self.layer10 = nn.Sequential(\n",
    "            nn.Conv2d(512, 512, kernel_size=3, padding=1),\n",
    "            nn.BatchNorm2d(512),\n",
    "            nn.ReLU(inplace=True))\n",
    "        self.layer11 = nn.Sequential(\n",
    "            nn.Conv2d(512, 512, kernel_size=3, padding=1),\n",
    "            nn.BatchNorm2d(512),\n",
    "            nn.ReLU(inplace=True))\n",
    "        self.layer12 = nn.Sequential(\n",
    "            nn.Conv2d(512, 512, kernel_size=3, padding=1),\n",
    "            nn.BatchNorm2d(512),\n",
    "            nn.ReLU(inplace=True),\n",
    "            nn.MaxPool2d(kernel_size=2, stride=2))\n",
    "        self.layer13 = nn.Sequential(\n",
    "            nn.Conv2d(512, 512, kernel_size=3, padding=1),\n",
    "            nn.BatchNorm2d(512),\n",
    "            nn.ReLU(inplace=True))\n",
    "        self.layer14 = nn.Sequential(\n",
    "            nn.Conv2d(512, 512, kernel_size=3, padding=1),\n",
    "            nn.BatchNorm2d(512),\n",
    "            nn.ReLU(inplace=True))\n",
    "        self.layer15 = nn.Sequential(\n",
    "            nn.Conv2d(512, 512, kernel_size=3, padding=1),\n",
    "            nn.BatchNorm2d(512),\n",
    "            nn.ReLU(inplace=True))\n",
    "        self.layer16 = nn.Sequential(\n",
    "            nn.Conv2d(512, 512, kernel_size=3, padding=1),\n",
    "            nn.BatchNorm2d(512),\n",
    "            nn.ReLU(inplace=True),\n",
    "            nn.MaxPool2d(kernel_size=2, stride=2))\n",
    "        self.fc = nn.Sequential(\n",
    "            nn.Linear(512 * 7 * 7, 4096),\n",
    "            nn.ReLU(inplace=True),\n",
    "            nn.Dropout())\n",
    "        self.fc1 = nn.Sequential(\n",
    "            nn.Linear(4096, 4096),\n",
    "            nn.ReLU(inplace=True),\n",
    "            nn.Dropout())\n",
    "        self.fc2 = nn.Sequential(\n",
    "            nn.Linear(4096, num_classes))\n",
    "\n",
    "    def forward(self, x):\n",
    "        x = self.layer1(x)\n",
    "        x = self.layer2(x)\n",
    "        x = self.layer3(x)\n",
    "        x = self.layer4(x)\n",
    "        x = self.layer5(x)\n",
    "        x = self.layer6(x)\n",
    "        x = self.layer7(x)\n",
    "        x = self.layer8(x)\n",
    "        x = self.layer9(x)\n",
    "        x = self.layer10(x)\n",
    "        x = self.layer11(x)\n",
    "        x = self.layer12(x)\n",
    "        x = self.layer13(x)\n",
    "        x = self.layer14(x)\n",
    "        x = self.layer15(x)\n",
    "        x = self.layer16(x)\n",
    "        x = x.reshape(x.size(0), -1)\n",
    "        x = self.fc(x)\n",
    "        x = self.fc1(x)\n",
    "        x = self.fc2(x)\n",
    "        return x\n",
    "    \n",
    "net = VGG19().to(device)\n",
    "\n",
    "set_transforms(net.transform)\n",
    "\n",
    "net"
   ]
  },
  {
   "cell_type": "markdown",
   "metadata": {},
   "source": [
    "### InceptionNet\n",
    "Para este modelo, lo scamos de https://www.kaggle.com/code/mohamedmustafa/10-implement-inceptionnet-from-scratch-pytorch y lo modificamos para que se adapte a nuestro codigo."
   ]
  },
  {
   "cell_type": "code",
   "execution_count": null,
   "metadata": {},
   "outputs": [],
   "source": [
    "class ConvBlock(nn.Module):\n",
    "    def __init__(self, In_Channels, Out_Channels, Kernel_Size, Stride, Padding):\n",
    "        super(ConvBlock, self).__init__()\n",
    "        self.Conv = nn.Conv2d(in_channels=In_Channels, out_channels=Out_Channels, kernel_size=Kernel_Size, stride=Stride, padding=Padding)\n",
    "        self.Batch_Norm = nn.BatchNorm2d(num_features=Out_Channels)\n",
    "        self.Activ_Func = nn.ReLU()\n",
    "    \n",
    "    \"\"\"\n",
    "    Ahora construiremos la función forward que define el camino hacia el tensor de entrada dandole a entender al tensor la secuencia de capas que se está atravesando\n",
    "    \"\"\"\n",
    "    \n",
    "    def forward(self, Tensor_Path):\n",
    "        Tensor_Path = self.Conv(Tensor_Path)\n",
    "        Tensor_Path = self.Batch_Norm(Tensor_Path)\n",
    "        Tensor_Path = self.Activ_Func(Tensor_Path)\n",
    "        \n",
    "        return Tensor_Path\n"
   ]
  },
  {
   "cell_type": "code",
   "execution_count": null,
   "metadata": {},
   "outputs": [],
   "source": [
    "class InceptionBlock(nn.Module):\n",
    "    def __init__(self,In_Channels, Num_Of_Filters_1x1, Num_Of_Filters_3x3, Num_Of_Filters_5x5, Num_Of_Filters_3x3_Reduce,Num_Of_Filters_5x5_Reduce, Pooling):\n",
    "        super(InceptionBlock, self).__init__()\n",
    "        # The In_Channels are the depth of tensor coming from previous layer\n",
    "        # First block contains only filters with kernel size 1x1\n",
    "        self.Block_1 = nn.Sequential(ConvBlock(In_Channels=In_Channels, Out_Channels=Num_Of_Filters_1x1, Kernel_Size=(1,1), Stride=(1,1), Padding=(0,0)))\n",
    "        \n",
    "        # Second Block contains filters with kernel size 1x1 followed by 3x3\n",
    "        self.Block_2 = nn.Sequential(\n",
    "            ConvBlock(In_Channels=In_Channels, Out_Channels= Num_Of_Filters_3x3_Reduce, Kernel_Size=(1,1), Stride=(1,1), Padding=(0,0)),\n",
    "            ConvBlock(In_Channels=Num_Of_Filters_3x3_Reduce, Out_Channels= Num_Of_Filters_3x3, Kernel_Size=(3,3), Stride=(1,1), Padding=(1,1))\n",
    "        )\n",
    "        \n",
    "        # Third Block same as second block unless we'll replace the 3x3 filter with 5x5 \n",
    "        self.Block_3 = nn.Sequential(\n",
    "            ConvBlock(In_Channels=In_Channels, Out_Channels= Num_Of_Filters_5x5_Reduce, Kernel_Size=(1,1), Stride=(1,1), Padding=(0,0)),\n",
    "            ConvBlock(In_Channels=Num_Of_Filters_5x5_Reduce, Out_Channels= Num_Of_Filters_5x5, Kernel_Size=(5,5), Stride=(1,1), Padding=(2,2))\n",
    "        )\n",
    "        \n",
    "        # Fourth Block contains maxpooling layer followed by 1x1 filter\n",
    "        self.Block_4 = nn.Sequential(\n",
    "            nn.MaxPool2d(kernel_size=(3,3), stride=(1,1), padding=(1,1)),\n",
    "            ConvBlock(In_Channels=In_Channels, Out_Channels=Pooling, Kernel_Size=(1,1), Stride=(1,1), Padding=(0,0))\n",
    "        )\n",
    "    def forward(self, Tensor_Path):\n",
    "        First_Block_Out = self.Block_1(Tensor_Path)\n",
    "        Second_Block_Out = self.Block_2(Tensor_Path)\n",
    "        Third_Block_Out = self.Block_3(Tensor_Path)\n",
    "        Fourth_Block_Out = self.Block_4(Tensor_Path)\n",
    "        \n",
    "        Concatenated_Outputs = torch.cat([First_Block_Out,Second_Block_Out, Third_Block_Out, Fourth_Block_Out], dim=1) #dim=1 because we want to concatenate in the depth dimension\n",
    "        return Concatenated_Outputs\n"
   ]
  },
  {
   "cell_type": "code",
   "execution_count": null,
   "metadata": {},
   "outputs": [],
   "source": [
    "class Auxiliary_Classifier(nn.Module):\n",
    "    def __init__(self, In_Channels, Num_Classes):\n",
    "        super(Auxiliary_Classifier, self).__init__()\n",
    "        self.Adaptive_AvgPool = nn.AdaptiveAvgPool2d(output_size=(4, 4))\n",
    "        self.Conv = nn.Conv2d(in_channels= In_Channels, out_channels=128, kernel_size=(1,1), stride=(1,1), padding=(0,0))\n",
    "        self.Activ_Func = nn.ReLU()\n",
    "        # in_features=2048 because we should flatten the input tensor which has shape of (batch, 4,4,128) so after flaten the tensor will be (batch, 4*4*128)\n",
    "        # out_features=1024 this number from paper\n",
    "        self.FC_1 = nn.Linear(in_features=2048, out_features=1024) \n",
    "        self.DropOut = nn.Dropout(p=0.7) \n",
    "        self.FC_2 = nn.Linear(in_features=1024, out_features= Num_Classes)\n",
    "    \n",
    "    def forward(self, Tensor_Path):\n",
    "        Tensor_Path = self.Adaptive_AvgPool(Tensor_Path)\n",
    "        Tensor_Path = self.Conv(Tensor_Path)\n",
    "        Tensor_Path = self.Activ_Func(Tensor_Path)\n",
    "        Tensor_Path = torch.flatten(Tensor_Path, 1)\n",
    "        Tensor_Path = self.FC_1(Tensor_Path)\n",
    "        Tensor_Path = self.DropOut(Tensor_Path)\n",
    "        Tensor_Path = self.FC_2(Tensor_Path)\n",
    "        \n",
    "        return Tensor_Path\n"
   ]
  },
  {
   "cell_type": "code",
   "execution_count": null,
   "metadata": {},
   "outputs": [],
   "source": [
    "class InceptionNet_V1(nn.Module):\n",
    "    def __init__(self, Out_Classes):\n",
    "        super(InceptionNet_V1, self).__init__()\n",
    "        self.Conv_1 = ConvBlock(In_Channels=3, Out_Channels=64, Kernel_Size=(7,7), Stride=(2,2), Padding=(3,3))\n",
    "        self.MaxPool_1 = nn.MaxPool2d(kernel_size=(3,3), stride=(2,2), padding=(0,0), ceil_mode=True)\n",
    "        self.Conv_2 = ConvBlock(In_Channels=64, Out_Channels=64, Kernel_Size=(1,1), Stride=(1,1), Padding=(0,0))\n",
    "        self.Conv_3 = ConvBlock(In_Channels=64, Out_Channels=192, Kernel_Size=(3,3), Stride=(1,1), Padding=(1,1))\n",
    "        self.MaxPool_2 = nn.MaxPool2d(kernel_size=(3,3), stride=(2,2), padding=(0,0), ceil_mode=True)\n",
    "        self.Inception_3a = InceptionBlock(In_Channels=192, Num_Of_Filters_1x1=64, Num_Of_Filters_3x3=128\n",
    "                                          , Num_Of_Filters_5x5=32, Num_Of_Filters_3x3_Reduce=96, \n",
    "                                           Num_Of_Filters_5x5_Reduce=16, Pooling=32)\n",
    "        \n",
    "        self.Inception_3b = InceptionBlock(In_Channels=256, Num_Of_Filters_1x1=128, Num_Of_Filters_3x3=192\n",
    "                                          , Num_Of_Filters_5x5=96, Num_Of_Filters_3x3_Reduce=128, \n",
    "                                           Num_Of_Filters_5x5_Reduce=32, Pooling=64)\n",
    "        \n",
    "        self.MaxPool_3 = nn.MaxPool2d(kernel_size=(3,3), stride=(2,2), padding=(0,0), ceil_mode=True)\n",
    "        self.Inception_4a = InceptionBlock(In_Channels=480, Num_Of_Filters_1x1=192, Num_Of_Filters_3x3=208\n",
    "                                          , Num_Of_Filters_5x5=48, Num_Of_Filters_3x3_Reduce=96, \n",
    "                                           Num_Of_Filters_5x5_Reduce=16, Pooling=64)\n",
    "        \n",
    "        self.Inception_4b = InceptionBlock(In_Channels=512, Num_Of_Filters_1x1=160, Num_Of_Filters_3x3=224\n",
    "                                          , Num_Of_Filters_5x5=64, Num_Of_Filters_3x3_Reduce=112, \n",
    "                                           Num_Of_Filters_5x5_Reduce=24, Pooling=64)\n",
    "        \n",
    "        \n",
    "        self.Inception_4c = InceptionBlock(In_Channels=512, Num_Of_Filters_1x1=128, Num_Of_Filters_3x3=256\n",
    "                                          , Num_Of_Filters_5x5=64, Num_Of_Filters_3x3_Reduce=128, \n",
    "                                           Num_Of_Filters_5x5_Reduce=24, Pooling=64)\n",
    "        \n",
    "       \n",
    "        self.Inception_4d = InceptionBlock(In_Channels=512, Num_Of_Filters_1x1=112, Num_Of_Filters_3x3=288\n",
    "                                          , Num_Of_Filters_5x5=64, Num_Of_Filters_3x3_Reduce=144, \n",
    "                                           Num_Of_Filters_5x5_Reduce=32, Pooling=64) \n",
    "        \n",
    "        self.Inception_4e = InceptionBlock(In_Channels=528, Num_Of_Filters_1x1=256, Num_Of_Filters_3x3=320\n",
    "                                          , Num_Of_Filters_5x5=128, Num_Of_Filters_3x3_Reduce=160, \n",
    "                                           Num_Of_Filters_5x5_Reduce=32, Pooling=128) \n",
    "        \n",
    "        self.MaxPool_4 = nn.MaxPool2d(kernel_size=(3,3), stride=(2,2), padding=(0,0), ceil_mode=True)\n",
    "        self.Inception_5a = InceptionBlock(In_Channels=832, Num_Of_Filters_1x1=256, Num_Of_Filters_3x3=320\n",
    "                                          , Num_Of_Filters_5x5=128, Num_Of_Filters_3x3_Reduce=160, \n",
    "                                           Num_Of_Filters_5x5_Reduce=32, Pooling=128) \n",
    "        \n",
    "        self.Inception_5b = InceptionBlock(In_Channels=832, Num_Of_Filters_1x1=384, Num_Of_Filters_3x3=384\n",
    "                                          , Num_Of_Filters_5x5=128, Num_Of_Filters_3x3_Reduce=192, \n",
    "                                           Num_Of_Filters_5x5_Reduce=48, Pooling=128) \n",
    "        \n",
    "        self.AvgPool_1 = nn.AdaptiveAvgPool2d(output_size=(1,1))\n",
    "        self.DropOut = nn.Dropout(p=0.4)\n",
    "        self.FC = nn.Linear(in_features=1024, out_features=Out_Classes)\n",
    "        \n",
    "        self.Auxiliary_4a = Auxiliary_Classifier(In_Channels=512, Num_Classes=Out_Classes)\n",
    "        self.Auxiliary_4d = Auxiliary_Classifier(In_Channels=528, Num_Classes=Out_Classes)\n",
    "        \n",
    "    def forward(self, Tensor_Path):\n",
    "        Tensor_Path = self.Conv_1(Tensor_Path)\n",
    "        Tensor_Path = self.MaxPool_1(Tensor_Path)\n",
    "        Tensor_Path = self.Conv_2(Tensor_Path)\n",
    "        Tensor_Path = self.Conv_3(Tensor_Path)\n",
    "        Tensor_Path = self.MaxPool_2(Tensor_Path)\n",
    "        Tensor_Path = self.Inception_3a(Tensor_Path)\n",
    "        Tensor_Path = self.Inception_3b(Tensor_Path)\n",
    "        Tensor_Path = self.MaxPool_3(Tensor_Path)\n",
    "        Tensor_Path = self.Inception_4a(Tensor_Path)\n",
    "        Auxiliary_1 = self.Auxiliary_4a(Tensor_Path)\n",
    "        Tensor_Path = self.Inception_4b(Tensor_Path)\n",
    "        Tensor_Path = self.Inception_4c(Tensor_Path)\n",
    "        Tensor_Path = self.Inception_4d(Tensor_Path)\n",
    "        Auxiliary_2 = self.Auxiliary_4d(Tensor_Path)\n",
    "        Tensor_Path = self.Inception_4e(Tensor_Path)\n",
    "        Tensor_Path = self.MaxPool_4(Tensor_Path)\n",
    "        Tensor_Path = self.Inception_5a(Tensor_Path)\n",
    "        Tensor_Path = self.Inception_5b(Tensor_Path)\n",
    "        Tensor_Path = self.AvgPool_1(Tensor_Path)\n",
    "        Tensor_Path = torch.flatten(Tensor_Path, 1)\n",
    "        Tensor_Path = self.DropOut(Tensor_Path)\n",
    "        Tensor_Path = self.FC(Tensor_Path)\n",
    "        \n",
    "        return Tensor_Path, Auxiliary_1, Auxiliary_2\n",
    "\n",
    "net = InceptionNet_V1(10).to(device)\n",
    "\n",
    "set_transforms(VGG16().transform)\n"
   ]
  },
  {
   "cell_type": "markdown",
   "metadata": {},
   "source": [
    "### ResNet\n",
    "https://blog.paperspace.com/writing-resnet-from-scratch-in-pytorch/"
   ]
  },
  {
   "cell_type": "code",
   "execution_count": 20,
   "metadata": {},
   "outputs": [],
   "source": [
    "class ResidualBlock(nn.Module):\n",
    "    def __init__(self, in_channels, out_channels, stride = 1, downsample = None):\n",
    "        super(ResidualBlock, self).__init__()\n",
    "        self.conv1 = nn.Sequential(\n",
    "                        nn.Conv2d(in_channels, out_channels, kernel_size = 3, stride = stride, padding = 1),\n",
    "                        nn.BatchNorm2d(out_channels),\n",
    "                        nn.ReLU())\n",
    "        self.conv2 = nn.Sequential(\n",
    "                        nn.Conv2d(out_channels, out_channels, kernel_size = 3, stride = 1, padding = 1),\n",
    "                        nn.BatchNorm2d(out_channels))\n",
    "        self.downsample = downsample\n",
    "        self.relu = nn.ReLU()\n",
    "        self.out_channels = out_channels\n",
    "        \n",
    "    def forward(self, x):\n",
    "        residual = x\n",
    "        out = self.conv1(x)\n",
    "        out = self.conv2(out)\n",
    "        if self.downsample:\n",
    "            residual = self.downsample(x)\n",
    "        out += residual\n",
    "        out = self.relu(out)\n",
    "        return out"
   ]
  },
  {
   "cell_type": "code",
   "execution_count": 21,
   "metadata": {},
   "outputs": [],
   "source": [
    "class ResNet(nn.Module):\n",
    "    def __init__(self, block, layers, num_classes = 10):\n",
    "        super(ResNet, self).__init__()\n",
    "        self.inplanes = 64\n",
    "        self.conv1 = nn.Sequential(\n",
    "                        nn.Conv2d(3, 64, kernel_size = 7, stride = 2, padding = 3),\n",
    "                        nn.BatchNorm2d(64),\n",
    "                        nn.ReLU())\n",
    "        self.maxpool = nn.MaxPool2d(kernel_size = 3, stride = 2, padding = 1)\n",
    "        self.layer0 = self._make_layer(block, 64, layers[0], stride = 1)\n",
    "        self.layer1 = self._make_layer(block, 128, layers[1], stride = 2)\n",
    "        self.layer2 = self._make_layer(block, 256, layers[2], stride = 2)\n",
    "        self.layer3 = self._make_layer(block, 512, layers[3], stride = 2)\n",
    "        self.avgpool = nn.AvgPool2d(7, stride=1)\n",
    "        self.fc = nn.Linear(512, num_classes)\n",
    "        \n",
    "    def _make_layer(self, block, planes, blocks, stride=1):\n",
    "        downsample = None\n",
    "        if stride != 1 or self.inplanes != planes:\n",
    "            \n",
    "            downsample = nn.Sequential(\n",
    "                nn.Conv2d(self.inplanes, planes, kernel_size=1, stride=stride),\n",
    "                nn.BatchNorm2d(planes),\n",
    "            )\n",
    "        layers = []\n",
    "        layers.append(block(self.inplanes, planes, stride, downsample))\n",
    "        self.inplanes = planes\n",
    "        for i in range(1, blocks):\n",
    "            layers.append(block(self.inplanes, planes))\n",
    "\n",
    "        return nn.Sequential(*layers)\n",
    "    \n",
    "    \n",
    "    def forward(self, x):\n",
    "        x = self.conv1(x)\n",
    "        x = self.maxpool(x)\n",
    "        x = self.layer0(x)\n",
    "        x = self.layer1(x)\n",
    "        x = self.layer2(x)\n",
    "        x = self.layer3(x)\n",
    "\n",
    "        x = self.avgpool(x)\n",
    "        x = x.view(x.size(0), -1)\n",
    "        x = self.fc(x)\n",
    "\n",
    "        return x\n",
    "\n",
    "net = ResNet(ResidualBlock, [2, 2, 2, 2]).to(device)"
   ]
  },
  {
   "cell_type": "markdown",
   "metadata": {},
   "source": [
    "## 4. Data Augmentation\n"
   ]
  },
  {
   "cell_type": "code",
   "execution_count": null,
   "metadata": {},
   "outputs": [],
   "source": [
    "get_transforms()\n"
   ]
  },
  {
   "cell_type": "code",
   "execution_count": null,
   "metadata": {},
   "outputs": [],
   "source": [
    "aug_transform = transforms.Compose(\n",
    "    [\n",
    "        transforms.RandomHorizontalFlip(p=0.5),\n",
    "        transforms.RandomRotation(degrees=15),\n",
    "        transforms.RandomPerspective(),\n",
    "        transforms.ColorJitter(brightness=0.5, contrast=0.5, saturation=0.5, hue=0.5),\n",
    "    ]\n",
    ")\n"
   ]
  },
  {
   "cell_type": "code",
   "execution_count": null,
   "metadata": {},
   "outputs": [],
   "source": [
    "cur_transform = get_transforms()\n",
    "if cur_transform.transforms[0].__class__.__name__ != 'Compose':\n",
    "    cur_transform.transforms.insert(0, aug_transform)\n",
    "    set_transforms(cur_transform)\n",
    "\n",
    "cur_transform\n"
   ]
  },
  {
   "cell_type": "code",
   "execution_count": null,
   "metadata": {},
   "outputs": [],
   "source": [
    "set_transforms(VGG16().transform)"
   ]
  },
  {
   "cell_type": "markdown",
   "metadata": {},
   "source": [
    "## 5. Optimizadores\n",
    "Realizar experimentos evaluando distintos optimizadores, schedulers y reportar el mejor y peor experimento. ¿Qué estrategia utilizaron? ¿Qué resultados obtuvieron?"
   ]
  },
  {
   "cell_type": "code",
   "execution_count": 16,
   "metadata": {},
   "outputs": [],
   "source": [
    "## Parámetros de entrenamiento\n",
    "learning_rate = 0.005\n",
    "momentum = 0.8\n",
    "epochs = 12\n"
   ]
  },
  {
   "cell_type": "code",
   "execution_count": 22,
   "metadata": {},
   "outputs": [],
   "source": [
    "# Optimizador y función de pérdida\n",
    "criterion = nn.CrossEntropyLoss()\n",
    "\n",
    "optimizer = optim.SGD(\n",
    "    net.parameters(),\n",
    "    lr=learning_rate,\n",
    "    momentum=momentum,\n",
    "    weight_decay=0.0005,\n",
    ")\n"
   ]
  },
  {
   "cell_type": "markdown",
   "metadata": {},
   "source": [
    "## 6. Entrenamiento\n",
    "Realizar experimentos evaluando distintos batch-sizes, epochs y reportar el mejor y peor experimento. ¿Qué resultados obtuvieron?"
   ]
  },
  {
   "cell_type": "markdown",
   "metadata": {},
   "source": [
    "### Definicion nombres"
   ]
  },
  {
   "cell_type": "code",
   "execution_count": 23,
   "metadata": {},
   "outputs": [
    {
     "data": {
      "text/plain": [
       "'ResNet SGD lr=0.005 momentum=0.8 epochs=12 device=mps:0'"
      ]
     },
     "execution_count": 23,
     "metadata": {},
     "output_type": "execute_result"
    }
   ],
   "source": [
    "# Nombre del experimento\n",
    "project_name = \"TP3\"\n",
    "experiment_name = f\"{net.__class__.__name__ } {optimizer.__class__.__name__} lr={learning_rate} momentum={momentum} epochs={epochs} device={device}\"\n",
    "experiment_name\n"
   ]
  },
  {
   "cell_type": "code",
   "execution_count": 24,
   "metadata": {},
   "outputs": [
    {
     "data": {
      "text/html": [
       "Waiting for W&B process to finish... <strong style=\"color:green\">(success).</strong>"
      ],
      "text/plain": [
       "<IPython.core.display.HTML object>"
      ]
     },
     "metadata": {},
     "output_type": "display_data"
    },
    {
     "name": "stderr",
     "output_type": "stream",
     "text": [
      "wandb: WARNING Source type is set to 'repo' but some required information is missing from the environment. A job will not be created from this run. See https://docs.wandb.ai/guides/launch/create-job\n"
     ]
    },
    {
     "data": {
      "text/html": [
       " View run <strong style=\"color:#cdcd00\">VGG19 SGD lr=0.005 momentum=0.8 epochs=12 device=mps:0</strong> at: <a href='https://wandb.ai/pardo/TP3/runs/b2dkyrxn' target=\"_blank\">https://wandb.ai/pardo/TP3/runs/b2dkyrxn</a><br/>Synced 5 W&B file(s), 0 media file(s), 0 artifact file(s) and 0 other file(s)"
      ],
      "text/plain": [
       "<IPython.core.display.HTML object>"
      ]
     },
     "metadata": {},
     "output_type": "display_data"
    },
    {
     "data": {
      "text/html": [
       "Find logs at: <code>./wandb/run-20231103_102233-b2dkyrxn/logs</code>"
      ],
      "text/plain": [
       "<IPython.core.display.HTML object>"
      ]
     },
     "metadata": {},
     "output_type": "display_data"
    },
    {
     "data": {
      "text/html": [
       "Tracking run with wandb version 0.15.12"
      ],
      "text/plain": [
       "<IPython.core.display.HTML object>"
      ]
     },
     "metadata": {},
     "output_type": "display_data"
    },
    {
     "data": {
      "text/html": [
       "Run data is saved locally in <code>/Users/lucamazzarello_/Desktop/Repos/TP3_TDVI/wandb/run-20231103_112059-dmabou35</code>"
      ],
      "text/plain": [
       "<IPython.core.display.HTML object>"
      ]
     },
     "metadata": {},
     "output_type": "display_data"
    },
    {
     "data": {
      "text/html": [
       "Syncing run <strong><a href='https://wandb.ai/pardo/TP3/runs/dmabou35' target=\"_blank\">ResNet SGD lr=0.005 momentum=0.8 epochs=12 device=mps:0</a></strong> to <a href='https://wandb.ai/pardo/TP3' target=\"_blank\">Weights & Biases</a> (<a href='https://wandb.me/run' target=\"_blank\">docs</a>)<br/>"
      ],
      "text/plain": [
       "<IPython.core.display.HTML object>"
      ]
     },
     "metadata": {},
     "output_type": "display_data"
    },
    {
     "data": {
      "text/html": [
       " View project at <a href='https://wandb.ai/pardo/TP3' target=\"_blank\">https://wandb.ai/pardo/TP3</a>"
      ],
      "text/plain": [
       "<IPython.core.display.HTML object>"
      ]
     },
     "metadata": {},
     "output_type": "display_data"
    },
    {
     "data": {
      "text/html": [
       " View run at <a href='https://wandb.ai/pardo/TP3/runs/dmabou35' target=\"_blank\">https://wandb.ai/pardo/TP3/runs/dmabou35</a>"
      ],
      "text/plain": [
       "<IPython.core.display.HTML object>"
      ]
     },
     "metadata": {},
     "output_type": "display_data"
    },
    {
     "data": {
      "text/html": [
       "<button onClick=\"this.nextSibling.style.display='block';this.style.display='none';\">Display W&B run</button><iframe src='https://wandb.ai/pardo/TP3/runs/dmabou35?jupyter=true' style='border:none;width:100%;height:420px;display:none;'></iframe>"
      ],
      "text/plain": [
       "<wandb.sdk.wandb_run.Run at 0x7f8c5937b880>"
      ]
     },
     "execution_count": 24,
     "metadata": {},
     "output_type": "execute_result"
    }
   ],
   "source": [
    "wandb.finish()\n",
    "wandb.init(\n",
    "    # seteamos el projecto donde se va a guardar el experimento en wandb\n",
    "    project=project_name,\n",
    "    name=experiment_name,\n",
    "    \n",
    "    # trackeamos los hiperparámetros y las métricas\n",
    "    config={\n",
    "        \"learning_rate\": learning_rate,\n",
    "        \"momentum\": momentum,\n",
    "        \"batch_size\": batch_size,\n",
    "        \"epochs\": epochs,\n",
    "    },\n",
    ")"
   ]
  },
  {
   "cell_type": "markdown",
   "metadata": {},
   "source": [
    "### Entrenamientos"
   ]
  },
  {
   "cell_type": "markdown",
   "metadata": {},
   "source": [
    "#### Funciones de entranamiento"
   ]
  },
  {
   "cell_type": "code",
   "execution_count": 25,
   "metadata": {},
   "outputs": [],
   "source": [
    "def Train_Validate_InceptionV1(Model, Train_Loader, Val_Loader, Num_Of_Train_Samples, Num_Of_Val_Samples, Criterion,Optimizer, epochs):\n",
    "    iterator = tqdm(\n",
    "        range(epochs),\n",
    "        total=epochs,\n",
    "        desc=\"Epoch\"\n",
    "    )\n",
    "\n",
    "    # --------------------------------- TRAIN SET -----------------------------#\n",
    "    \n",
    "    # La accuracy y la loss de train y validation se guardan en estas listas por epoch\n",
    "    Train_Loss_History = []\n",
    "    Train_Accuracy_History = []\n",
    "    Val_Loss_History = []\n",
    "    Val_Accuracy_History = []\n",
    "\n",
    "    Train_Accuracy = 0\n",
    "    Val_Accuracy = 0\n",
    "    Train_Cummulative_Loss = 0\n",
    "    Val_Cummulative_Loss = 0\n",
    "    \n",
    "    for epoch in iterator:\n",
    "\n",
    "        Num_Of_Predicted_Correctly = 0 # numero de predicciones correctas\n",
    "        Train_Cummulative_Loss = 0 # suma de las loss de cada batch\n",
    "        \n",
    "        for i, data in enumerate(Train_Loader):\n",
    "            batch_samples, targets = data\n",
    "            batch_samples = batch_samples.to(device=device)\n",
    "            targets = targets.to(device=device)\n",
    "            \n",
    "            # pasa las muestras de train por la red (Forward Path)\n",
    "            Network_Predictions, Aux_1_Predictions, Aux_2_Predictions = Model(batch_samples)\n",
    "            \n",
    "            # Network Loss contiene la loss promedio de cada batch\n",
    "            Network_Loss = Criterion(Network_Predictions, targets)\n",
    "            Aux_1_Loss = Criterion(Aux_1_Predictions, targets)\n",
    "            Aux_2_Loss = Criterion(Aux_2_Predictions, targets)\n",
    "            \n",
    "            # Pondera las losses de cada bloque de la red como dice el paper\n",
    "            Main_Loss = Network_Loss + (0.3 * Aux_1_Loss) + (0.3 * Aux_2_Loss)\n",
    "            \n",
    "            # Backward Propagation\n",
    "            Optimizer.zero_grad() # gradientes a cero\n",
    "            Main_Loss.backward() # backpropagation\n",
    "            Optimizer.step() # actualizacion de pesos\n",
    "            \n",
    "            _, Train_Samples_Predictions = Network_Predictions.max(1)\n",
    "            Train_Samples_Predictions = Train_Samples_Predictions.to(device=device)\n",
    "            Num_Of_Predicted_Correctly += (Train_Samples_Predictions == targets).float().sum().item()\n",
    "            Train_Cummulative_Loss += Main_Loss.data.item() * batch_samples.shape[0]\n",
    "            \n",
    "            iterator.set_postfix(\n",
    "                {\n",
    "                    \"train_accuracy\": Train_Accuracy,\n",
    "                    \"val_accuracy\": Val_Accuracy,\n",
    "                    \"train_loss\": Train_Cummulative_Loss,\n",
    "                    \"val_loss\": Val_Cummulative_Loss,\n",
    "                    \"train iter\": i,\n",
    "                }\n",
    "            )\n",
    "\n",
    "        Train_Cummulative_Loss /= Num_Of_Train_Samples\n",
    "        Train_Loss_History.append(Train_Cummulative_Loss)\n",
    "        Train_Accuracy = 100 * Num_Of_Predicted_Correctly / Num_Of_Train_Samples\n",
    "        Train_Accuracy_History.append(Train_Accuracy)\n",
    "\n",
    "\n",
    "    \n",
    "    #----------------------------- VALIDATION SET -----------------------------#\n",
    "    \n",
    "        Num_Of_Predicted_Correctly = 0\n",
    "        with torch.no_grad(): # Como estamos en validacion no necesitamos calcular los gradientes\n",
    "            Val_Cummulative_Loss = 0\n",
    "            for batch_samples,targets in Val_Loader:\n",
    "                batch_samples = batch_samples.to(device=device)\n",
    "                targets = targets.to(device=device)\n",
    "\n",
    "                # psamos los samples de validacion por la red (Forward Path)\n",
    "                Network_Predictions, Aux_1_Predictions, Aux_2_Predictions = Model(batch_samples)\n",
    "\n",
    "                # Network loss guarda la loss promedio de cada batch\n",
    "                Network_Loss = Criterion(Network_Predictions, targets)\n",
    "                Aux_1_Loss = Criterion(Aux_1_Predictions, targets)\n",
    "                Aux_2_Loss = Criterion(Aux_2_Predictions, targets)\n",
    "\n",
    "                # Pondera las losses de cada bloque de la red como dice el paper\n",
    "                Main_Loss = Network_Loss + (0.3 * Aux_1_Loss) + (0.3 * Aux_2_Loss)\n",
    "\n",
    "                _, Val_Samples_Predictions = Network_Predictions.max(1)\n",
    "                Val_Samples_Predictions = Val_Samples_Predictions.to(device=device)\n",
    "                Num_Of_Predicted_Correctly += (Val_Samples_Predictions == targets).float().sum().item()\n",
    "                Val_Cummulative_Loss += Main_Loss.data.item() * batch_samples.shape[0]\n",
    "            \n",
    "            Val_Cummulative_Loss /= Num_Of_Val_Samples\n",
    "            Val_Loss_History.append(Val_Cummulative_Loss)\n",
    "            Val_Accuracy = 100 * Num_Of_Predicted_Correctly / Num_Of_Val_Samples\n",
    "            Val_Accuracy_History.append(Val_Accuracy)\n",
    "                    \n",
    "            wandb.log(\n",
    "                {\n",
    "                    \"train_accuracy\": Train_Accuracy,\n",
    "                    \"val_accuracy\": Val_Accuracy,\n",
    "                    \"train_loss\": Train_Cummulative_Loss,\n",
    "                    \"val_loss\": Val_Cummulative_Loss,\n",
    "                }\n",
    "            )\n",
    "\n",
    "            iterator.set_postfix(\n",
    "                {\n",
    "                    \"train_accuracy\": Train_Accuracy,\n",
    "                    \"val_accuracy\": Val_Accuracy,\n",
    "                    \"train_loss\": Train_Cummulative_Loss,\n",
    "                    \"val_loss\": Val_Cummulative_Loss,\n",
    "                }\n",
    "            )\n",
    "        \n",
    "    torch.save(Model.state_dict(), \"InceptionNet_Model\")\n",
    "    return Train_Accuracy_History, Val_Accuracy_History, Train_Loss_History, Val_Loss_History\n",
    "\n",
    "def Propagate_InceptionNetwork(model, optimizer, criterion, epochs):\n",
    "    if type(model) == InceptionNet_V1:    \n",
    "        Train_Validate_InceptionV1(\n",
    "            Model = model, \n",
    "            Train_Loader = train_loader,\n",
    "            Val_Loader = val_loader,\n",
    "            Num_Of_Train_Samples = 40000,\n",
    "            Num_Of_Val_Samples = 10000,\n",
    "            Criterion = criterion,\n",
    "            Optimizer = optimizer,\n",
    "            epochs = epochs\n",
    "        )\n",
    "    else:\n",
    "        raise Exception(\"Modelo no es InceptionNetV1\")\n",
    "    \n",
    "def Propagate_Network(net, optimizer, criterion, epochs):\n",
    "    iterator = tqdm(\n",
    "        range(epochs),\n",
    "        total=epochs,\n",
    "        desc=\"Epoch\"\n",
    "    )\n",
    "\n",
    "    train_accuracy = 0\n",
    "    val_accuracy = 0\n",
    "    running_loss = 0\n",
    "    val_loss = 0   \n",
    "    \n",
    "    for epoch in iterator:\n",
    "        \n",
    "        # ---------------- SECCION DE TRAIN -----------------\n",
    "\n",
    "        running_loss = 0.0\n",
    "        train_correct = 0\n",
    "        total = 0\n",
    "\n",
    "        for i, data in enumerate(train_loader, 0):\n",
    "\n",
    "            # Los datos son una lista de [inputs, labels]\n",
    "            # inputs, labels = data\n",
    "            inputs, labels = data[0].to(device), data[1].to(device)\n",
    "\n",
    "            # Reiniciamos gradientes\n",
    "            optimizer.zero_grad()\n",
    "\n",
    "            # forward + backward + optimize\n",
    "            outputs = net(inputs) # forward\n",
    "            loss = criterion(outputs, labels) # perdida\n",
    "            loss.backward() # backward\n",
    "            optimizer.step() # optimizacion\n",
    "\n",
    "            # print statistics\n",
    "            running_loss += loss.item()\n",
    "\n",
    "            _, predicted = torch.max(outputs.data, 1)\n",
    "            total += labels.size(0)\n",
    "            train_correct += (predicted == labels).sum().item()\n",
    "\n",
    "            iterator.set_postfix(\n",
    "                {\n",
    "                    \"train_accuracy\": train_accuracy,\n",
    "                    \"val_accuracy\": val_accuracy,\n",
    "                    \"train_loss\": running_loss,\n",
    "                    \"val_loss\": val_loss,\n",
    "                }\n",
    "            )\n",
    "        \n",
    "        # ---------------- SECCION DE VALIDACION ----------------\n",
    "        \n",
    "        train_accuracy = 100 * train_correct / total\n",
    "        running_loss = running_loss / total\n",
    "\n",
    "        val_correct = 0\n",
    "        total = 0\n",
    "        val_loss = 0\n",
    "        \n",
    "        # Esta parte es sólo validación, no requiere entrenar, por lo que no calculamos gradientes.\n",
    "        with torch.no_grad():\n",
    "            for data in val_loader:\n",
    "                images, labels = data[0].to(device), data[1].to(device)\n",
    "                \n",
    "                # Calculamos las salidas de la red para las imágenes de validación\n",
    "                outputs = net(images)\n",
    "                \n",
    "                # La clase con mayor valor de salida es la predicción de la red\n",
    "                _, predicted = torch.max(outputs.data, 1)\n",
    "                total += labels.size(0)\n",
    "                val_correct += (predicted == labels).sum().item()\n",
    "                val_loss += criterion(outputs, labels).item()\n",
    "\n",
    "        # Fin de la validación\n",
    "\n",
    "        val_accuracy = 100 * val_correct / total\n",
    "        val_loss = val_loss / total\n",
    "\n",
    "        wandb.log(\n",
    "            {\n",
    "                \"train_accuracy\": train_accuracy,\n",
    "                \"val_accuracy\": val_accuracy,\n",
    "                \"train_loss\": running_loss,\n",
    "                \"val_loss\": val_loss,\n",
    "            }\n",
    "        )\n",
    "\n",
    "        iterator.set_postfix(\n",
    "            {\n",
    "                \"train_accuracy\": train_accuracy,\n",
    "                \"val_accuracy\": val_accuracy,\n",
    "                \"train_loss\": running_loss,\n",
    "                \"val_loss\": val_loss,\n",
    "            }\n",
    "        )\n",
    "\n",
    "    print(\"Finished Training\")"
   ]
  },
  {
   "cell_type": "code",
   "execution_count": 26,
   "metadata": {},
   "outputs": [],
   "source": [
    "\n"
   ]
  },
  {
   "cell_type": "markdown",
   "metadata": {},
   "source": [
    "### Entrenador"
   ]
  },
  {
   "cell_type": "code",
   "execution_count": 27,
   "metadata": {},
   "outputs": [],
   "source": [
    "def train_model(net, criterion, optimizer, epochs):\n",
    "    try:\n",
    "        if net.__class__.__name__ == \"InceptionNet_V1\":\n",
    "            Propagate_InceptionNetwork(net, optimizer, criterion, epochs)\n",
    "        else:\n",
    "            Propagate_Network(net, optimizer, criterion, epochs)\n",
    "    except Exception as e:\n",
    "        print(e)\n",
    "    finally:\n",
    "        wandb.finish()"
   ]
  },
  {
   "cell_type": "code",
   "execution_count": 28,
   "metadata": {},
   "outputs": [
    {
     "name": "stderr",
     "output_type": "stream",
     "text": [
      "Epoch:   0%|          | 0/12 [00:19<?, ?it/s, train_accuracy=0, val_accuracy=0, train_loss=2.25, val_loss=0]"
     ]
    }
   ],
   "source": [
    "train_model(net, criterion, optimizer, epochs)"
   ]
  },
  {
   "cell_type": "markdown",
   "metadata": {},
   "source": [
    "## 7. Guardar el Modelo"
   ]
  },
  {
   "cell_type": "markdown",
   "metadata": {},
   "source": [
    "Ejemplo de guardar el modelo. Sin embargo lo deberiamos guardar para el que mejor dio en validation."
   ]
  },
  {
   "cell_type": "code",
   "execution_count": null,
   "metadata": {},
   "outputs": [],
   "source": [
    "PATH = './{}.pth'.format(experiment_name)\n",
    "torch.save(net.state_dict(), PATH)\n"
   ]
  },
  {
   "cell_type": "markdown",
   "metadata": {},
   "source": [
    "## 8. Evaluación final\n",
    "Evaluar el mejor modelo, es decir, el mejor de los ejercicios anteriores, con el set de test."
   ]
  },
  {
   "cell_type": "code",
   "execution_count": null,
   "metadata": {},
   "outputs": [],
   "source": [
    "#net = Net()\n",
    "#net.load_state_dict(torch.load(PATH))\n",
    "\n",
    "dataiter = iter(test_loader)\n",
    "data = next(dataiter)\n",
    "test_images, test_labels = data\n",
    "\n",
    "# print test_images\n",
    "imshow(torchvision.utils.make_grid(test_images))\n",
    "print(\"GroundTruth: \", \" \".join(f\"{classes[test_labels[j]]:5s}\" for j in range(batch_size)))\n",
    "\n",
    "test_images, test_labels = data[0].to(device), data[1].to(device)\n",
    "outputs = net(test_images)\n",
    "_, predicted = torch.max(outputs, 1)\n",
    "\n",
    "print('Predicted: ', ' '.join(f'{classes[predicted[j]]:5s}'\n",
    "                              for j in range(4)))\n",
    "\n",
    "correct = 0\n",
    "total = 0\n",
    "\n",
    "# since we're not training, we don't need to calculate the gradients for our outputs\n",
    "with torch.no_grad():\n",
    "    for data in test_loader:\n",
    "        test_images, test_labels = data[0].to(device), data[1].to(device)\n",
    "        # calculate outputs by running test_images through the network\n",
    "        outputs = net(test_images)\n",
    "        # the class with the highest energy is what we choose as prediction\n",
    "        _, predicted = torch.max(outputs.data, 1)\n",
    "        total += test_labels.size(0)\n",
    "        correct += (predicted == test_labels).sum().item()\n",
    "\n",
    "print(f\"Accuracy of the network on the 10000 test test_images: {100 * correct // total} %\")\n",
    "\n",
    "# prepare to count predictions for each class\n",
    "correct_pred = {classname: 0 for classname in classes}\n",
    "total_pred = {classname: 0 for classname in classes}\n",
    "\n",
    "# again no gradients needed\n",
    "with torch.no_grad():\n",
    "    for data in test_loader:\n",
    "        test_images, test_labels = data[0].to(device), data[1].to(device)\n",
    "        outputs = net(test_images)\n",
    "        _, predictions = torch.max(outputs, 1)\n",
    "        # collect the correct predictions for each class\n",
    "        for label, prediction in zip(test_labels, predictions):\n",
    "            if label == prediction:\n",
    "                correct_pred[classes[label]] += 1\n",
    "            total_pred[classes[label]] += 1\n",
    "\n",
    "\n",
    "# print accuracy for each class\n",
    "for classname, correct_count in correct_pred.items():\n",
    "    accuracy = 100 * float(correct_count) / total_pred[classname]\n",
    "    print(f\"Accuracy for class: {classname:5s} is {accuracy:.1f} %\")\n"
   ]
  },
  {
   "cell_type": "code",
   "execution_count": null,
   "metadata": {},
   "outputs": [],
   "source": []
  }
 ],
 "metadata": {
  "kernelspec": {
   "display_name": "TDVI",
   "language": "python",
   "name": "python3"
  },
  "language_info": {
   "codemirror_mode": {
    "name": "ipython",
    "version": 3
   },
   "file_extension": ".py",
   "mimetype": "text/x-python",
   "name": "python",
   "nbconvert_exporter": "python",
   "pygments_lexer": "ipython3",
   "version": "3.9.17"
  }
 },
 "nbformat": 4,
 "nbformat_minor": 2
}
