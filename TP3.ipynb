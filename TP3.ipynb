{
 "cells": [
  {
   "cell_type": "markdown",
   "metadata": {},
   "source": [
    "## 1. Configuración\n",
    "Crearse una cuenta en Weights and Biases (o en su board favorito) y linkear la notebook a este. Cada experimento deberá contener nombres dicientes y almacenar los (hiper)parámetros de configuración del mismo. Deberá separar los sets de datos en entrenamiento, validación y test. Utilizando solamente los sets de entrenamiento y validación, registrar la loss en train y validación en cada iteración que considere conveniente"
   ]
  },
  {
   "cell_type": "code",
   "execution_count": 53,
   "metadata": {},
   "outputs": [
    {
     "name": "stdout",
     "output_type": "stream",
     "text": [
      "Looking in indexes: https://pypi.org/simple, https://download.pytorch.org/whl/nightly/cpu\n",
      "Requirement already satisfied: torch in /Users/lucamazzarello_/opt/anaconda3/envs/TDVI/lib/python3.9/site-packages (2.1.0)\n",
      "Requirement already satisfied: torchvision in /Users/lucamazzarello_/opt/anaconda3/envs/TDVI/lib/python3.9/site-packages (0.16.0)\n",
      "Requirement already satisfied: torchaudio in /Users/lucamazzarello_/opt/anaconda3/envs/TDVI/lib/python3.9/site-packages (2.1.0)\n",
      "Requirement already satisfied: filelock in /Users/lucamazzarello_/opt/anaconda3/envs/TDVI/lib/python3.9/site-packages (from torch) (3.12.4)\n",
      "Requirement already satisfied: typing-extensions in /Users/lucamazzarello_/opt/anaconda3/envs/TDVI/lib/python3.9/site-packages (from torch) (4.7.1)\n",
      "Requirement already satisfied: sympy in /Users/lucamazzarello_/opt/anaconda3/envs/TDVI/lib/python3.9/site-packages (from torch) (1.12)\n",
      "Requirement already satisfied: networkx in /Users/lucamazzarello_/opt/anaconda3/envs/TDVI/lib/python3.9/site-packages (from torch) (2.8.8)\n",
      "Requirement already satisfied: jinja2 in /Users/lucamazzarello_/opt/anaconda3/envs/TDVI/lib/python3.9/site-packages (from torch) (3.1.2)\n",
      "Requirement already satisfied: fsspec in /Users/lucamazzarello_/opt/anaconda3/envs/TDVI/lib/python3.9/site-packages (from torch) (2023.9.2)\n",
      "Requirement already satisfied: numpy in /Users/lucamazzarello_/opt/anaconda3/envs/TDVI/lib/python3.9/site-packages (from torchvision) (1.24.4)\n",
      "Requirement already satisfied: requests in /Users/lucamazzarello_/opt/anaconda3/envs/TDVI/lib/python3.9/site-packages (from torchvision) (2.31.0)\n",
      "Requirement already satisfied: pillow!=8.3.*,>=5.3.0 in /Users/lucamazzarello_/opt/anaconda3/envs/TDVI/lib/python3.9/site-packages (from torchvision) (10.0.0)\n",
      "Requirement already satisfied: MarkupSafe>=2.0 in /Users/lucamazzarello_/opt/anaconda3/envs/TDVI/lib/python3.9/site-packages (from jinja2->torch) (2.1.3)\n",
      "Requirement already satisfied: charset-normalizer<4,>=2 in /Users/lucamazzarello_/opt/anaconda3/envs/TDVI/lib/python3.9/site-packages (from requests->torchvision) (3.3.0)\n",
      "Requirement already satisfied: idna<4,>=2.5 in /Users/lucamazzarello_/opt/anaconda3/envs/TDVI/lib/python3.9/site-packages (from requests->torchvision) (3.4)\n",
      "Requirement already satisfied: urllib3<3,>=1.21.1 in /Users/lucamazzarello_/opt/anaconda3/envs/TDVI/lib/python3.9/site-packages (from requests->torchvision) (2.0.6)\n",
      "Requirement already satisfied: certifi>=2017.4.17 in /Users/lucamazzarello_/opt/anaconda3/envs/TDVI/lib/python3.9/site-packages (from requests->torchvision) (2023.7.22)\n",
      "Requirement already satisfied: mpmath>=0.19 in /Users/lucamazzarello_/opt/anaconda3/envs/TDVI/lib/python3.9/site-packages (from sympy->torch) (1.3.0)\n",
      "Note: you may need to restart the kernel to use updated packages.\n"
     ]
    }
   ],
   "source": [
    "%pip install --pre torch torchvision torchaudio --extra-index-url https://download.pytorch.org/whl/nightly/cpu\n"
   ]
  },
  {
   "cell_type": "code",
   "execution_count": 31,
   "metadata": {},
   "outputs": [
    {
     "name": "stdout",
     "output_type": "stream",
     "text": [
      "Requirement already satisfied: scikit-learn in /Users/lucamazzarello_/opt/anaconda3/envs/TDVI/lib/python3.9/site-packages (1.3.0)\n",
      "Requirement already satisfied: wandb in /Users/lucamazzarello_/opt/anaconda3/envs/TDVI/lib/python3.9/site-packages (0.15.12)\n",
      "Requirement already satisfied: numpy>=1.17.3 in /Users/lucamazzarello_/opt/anaconda3/envs/TDVI/lib/python3.9/site-packages (from scikit-learn) (1.24.4)\n",
      "Requirement already satisfied: scipy>=1.5.0 in /Users/lucamazzarello_/opt/anaconda3/envs/TDVI/lib/python3.9/site-packages (from scikit-learn) (1.11.2)\n",
      "Requirement already satisfied: joblib>=1.1.1 in /Users/lucamazzarello_/opt/anaconda3/envs/TDVI/lib/python3.9/site-packages (from scikit-learn) (1.3.2)\n",
      "Requirement already satisfied: threadpoolctl>=2.0.0 in /Users/lucamazzarello_/opt/anaconda3/envs/TDVI/lib/python3.9/site-packages (from scikit-learn) (3.2.0)\n",
      "Requirement already satisfied: Click!=8.0.0,>=7.1 in /Users/lucamazzarello_/opt/anaconda3/envs/TDVI/lib/python3.9/site-packages (from wandb) (8.1.7)\n",
      "Requirement already satisfied: GitPython!=3.1.29,>=1.0.0 in /Users/lucamazzarello_/opt/anaconda3/envs/TDVI/lib/python3.9/site-packages (from wandb) (3.1.40)\n",
      "Requirement already satisfied: requests<3,>=2.0.0 in /Users/lucamazzarello_/opt/anaconda3/envs/TDVI/lib/python3.9/site-packages (from wandb) (2.31.0)\n",
      "Requirement already satisfied: psutil>=5.0.0 in /Users/lucamazzarello_/opt/anaconda3/envs/TDVI/lib/python3.9/site-packages (from wandb) (5.9.5)\n",
      "Requirement already satisfied: sentry-sdk>=1.0.0 in /Users/lucamazzarello_/opt/anaconda3/envs/TDVI/lib/python3.9/site-packages (from wandb) (1.32.0)\n",
      "Requirement already satisfied: docker-pycreds>=0.4.0 in /Users/lucamazzarello_/opt/anaconda3/envs/TDVI/lib/python3.9/site-packages (from wandb) (0.4.0)\n",
      "Requirement already satisfied: PyYAML in /Users/lucamazzarello_/opt/anaconda3/envs/TDVI/lib/python3.9/site-packages (from wandb) (6.0.1)\n",
      "Requirement already satisfied: pathtools in /Users/lucamazzarello_/opt/anaconda3/envs/TDVI/lib/python3.9/site-packages (from wandb) (0.1.2)\n",
      "Requirement already satisfied: setproctitle in /Users/lucamazzarello_/opt/anaconda3/envs/TDVI/lib/python3.9/site-packages (from wandb) (1.3.3)\n",
      "Requirement already satisfied: setuptools in /Users/lucamazzarello_/opt/anaconda3/envs/TDVI/lib/python3.9/site-packages (from wandb) (68.1.2)\n",
      "Requirement already satisfied: appdirs>=1.4.3 in /Users/lucamazzarello_/opt/anaconda3/envs/TDVI/lib/python3.9/site-packages (from wandb) (1.4.4)\n",
      "Requirement already satisfied: typing-extensions in /Users/lucamazzarello_/opt/anaconda3/envs/TDVI/lib/python3.9/site-packages (from wandb) (4.7.1)\n",
      "Requirement already satisfied: protobuf!=4.21.0,<5,>=3.19.0 in /Users/lucamazzarello_/opt/anaconda3/envs/TDVI/lib/python3.9/site-packages (from wandb) (4.24.4)\n",
      "Requirement already satisfied: six>=1.4.0 in /Users/lucamazzarello_/opt/anaconda3/envs/TDVI/lib/python3.9/site-packages (from docker-pycreds>=0.4.0->wandb) (1.16.0)\n",
      "Requirement already satisfied: gitdb<5,>=4.0.1 in /Users/lucamazzarello_/opt/anaconda3/envs/TDVI/lib/python3.9/site-packages (from GitPython!=3.1.29,>=1.0.0->wandb) (4.0.11)\n",
      "Requirement already satisfied: charset-normalizer<4,>=2 in /Users/lucamazzarello_/opt/anaconda3/envs/TDVI/lib/python3.9/site-packages (from requests<3,>=2.0.0->wandb) (3.3.0)\n",
      "Requirement already satisfied: idna<4,>=2.5 in /Users/lucamazzarello_/opt/anaconda3/envs/TDVI/lib/python3.9/site-packages (from requests<3,>=2.0.0->wandb) (3.4)\n",
      "Requirement already satisfied: urllib3<3,>=1.21.1 in /Users/lucamazzarello_/opt/anaconda3/envs/TDVI/lib/python3.9/site-packages (from requests<3,>=2.0.0->wandb) (2.0.6)\n",
      "Requirement already satisfied: certifi>=2017.4.17 in /Users/lucamazzarello_/opt/anaconda3/envs/TDVI/lib/python3.9/site-packages (from requests<3,>=2.0.0->wandb) (2023.7.22)\n",
      "Requirement already satisfied: smmap<6,>=3.0.1 in /Users/lucamazzarello_/opt/anaconda3/envs/TDVI/lib/python3.9/site-packages (from gitdb<5,>=4.0.1->GitPython!=3.1.29,>=1.0.0->wandb) (5.0.1)\n",
      "Note: you may need to restart the kernel to use updated packages.\n"
     ]
    }
   ],
   "source": [
    "%pip install scikit-learn wandb\n"
   ]
  },
  {
   "cell_type": "code",
   "execution_count": 40,
   "metadata": {},
   "outputs": [
    {
     "name": "stdout",
     "output_type": "stream",
     "text": [
      "Collecting torchviewNote: you may need to restart the kernel to use updated packages.\n",
      "\n",
      "  Downloading torchview-0.2.6-py3-none-any.whl (25 kB)\n",
      "Collecting torchviz\n",
      "  Downloading torchviz-0.0.2.tar.gz (4.9 kB)\n",
      "  Preparing metadata (setup.py): started\n",
      "  Preparing metadata (setup.py): finished with status 'done'\n",
      "Collecting graphviz\n",
      "  Downloading graphviz-0.20.1-py3-none-any.whl (47 kB)\n",
      "     ---------------------------------------- 0.0/47.0 kB ? eta -:--:--\n",
      "     -------- ------------------------------- 10.2/47.0 kB ? eta -:--:--\n",
      "     -------------------------------------- 47.0/47.0 kB 584.1 kB/s eta 0:00:00\n",
      "Requirement already satisfied: torch in c:\\users\\nachi\\.conda\\envs\\gpu\\lib\\site-packages (from torchviz) (1.13.1+cu117)\n",
      "Requirement already satisfied: typing-extensions in c:\\users\\nachi\\appdata\\roaming\\python\\python39\\site-packages (from torch->torchviz) (4.8.0)\n",
      "Building wheels for collected packages: torchviz\n",
      "  Building wheel for torchviz (setup.py): started\n",
      "  Building wheel for torchviz (setup.py): finished with status 'done'\n",
      "  Created wheel for torchviz: filename=torchviz-0.0.2-py3-none-any.whl size=4138 sha256=21a4aa8fe6a3718d49c2cd767ac466fb40e6cbbc64112360b4b33801ec647b34\n",
      "  Stored in directory: c:\\users\\nachi\\appdata\\local\\pip\\cache\\wheels\\29\\65\\6e\\db2515eb1dc760fecd36b40d54df65c1e18534013f1c037e2e\n",
      "Successfully built torchviz\n",
      "Installing collected packages: torchview, graphviz, torchviz\n",
      "Successfully installed graphviz-0.20.1 torchview-0.2.6 torchviz-0.0.2\n"
     ]
    }
   ],
   "source": [
    "%pip install torchview torchviz graphviz\n"
   ]
  },
  {
   "cell_type": "code",
   "execution_count": 41,
   "metadata": {},
   "outputs": [],
   "source": [
    "import torch\n",
    "import torch.utils.data\n",
    "import torch.optim as optim\n",
    "\n",
    "import torch.nn as nn\n",
    "import torch.nn.functional as F\n",
    "\n",
    "import torchvision\n",
    "import torchvision.transforms as transforms\n",
    "\n",
    "from torchview import draw_graph\n",
    "from torchviz import make_dot\n",
    "\n",
    "from sklearn.model_selection import train_test_split\n",
    "\n",
    "import numpy as np\n",
    "import matplotlib.pyplot as plt\n",
    "import wandb\n",
    "\n",
    "import ssl\n",
    "import os\n",
    "from tqdm import tqdm\n"
   ]
  },
  {
   "cell_type": "code",
   "execution_count": 42,
   "metadata": {},
   "outputs": [
    {
     "data": {
      "text/plain": [
       "device(type='cuda', index=0)"
      ]
     },
     "execution_count": 42,
     "metadata": {},
     "output_type": "execute_result"
    }
   ],
   "source": [
    "# Como contamos con procesadores ARM M1, el backend para correr con la GPU es Metal, por lo que setiamos el device a MPS\n",
    "device = torch.device(\n",
    "    'mps:0' if torch.backends.mps.is_available() else 'cuda:0' if torch.cuda.is_available() else 'cpu'\n",
    "    )\n",
    "\n",
    "device\n"
   ]
  },
  {
   "cell_type": "code",
   "execution_count": 43,
   "metadata": {},
   "outputs": [
    {
     "data": {
      "text/plain": [
       "True"
      ]
     },
     "execution_count": 43,
     "metadata": {},
     "output_type": "execute_result"
    }
   ],
   "source": [
    "wandb.login()\n"
   ]
  },
  {
   "cell_type": "code",
   "execution_count": 44,
   "metadata": {},
   "outputs": [],
   "source": [
    "ssl._create_default_https_context = ssl._create_unverified_context\n"
   ]
  },
  {
   "cell_type": "code",
   "execution_count": 45,
   "metadata": {},
   "outputs": [],
   "source": [
    "# Chequeamos si la carpeta data existe, si no existe la creamos\n",
    "download = not os.path.isdir('./data')\n"
   ]
  },
  {
   "cell_type": "code",
   "execution_count": 46,
   "metadata": {},
   "outputs": [],
   "source": [
    "torch.manual_seed(181988)\n",
    "if torch.cuda.is_available():\n",
    "    torch.cuda.manual_seed(181988)\n"
   ]
  },
  {
   "cell_type": "code",
   "execution_count": 95,
   "metadata": {},
   "outputs": [],
   "source": [
    "batch_size = 4\n",
    "\n",
    "transform = transforms.Compose(\n",
    "    [\n",
    "        transforms.ToTensor(), \n",
    "        transforms.Normalize((0.5, 0.5, 0.5), (0.5, 0.5, 0.5))\n",
    "    ]\n",
    ")\n"
   ]
  },
  {
   "cell_type": "markdown",
   "metadata": {},
   "source": [
    "### Train Set y Validation Set"
   ]
  },
  {
   "cell_type": "code",
   "execution_count": 96,
   "metadata": {},
   "outputs": [],
   "source": [
    "# Descargamos el dataset CIFAR10 y lo guardamos en la variable train_set\n",
    "train_set = torchvision.datasets.CIFAR10(\n",
    "    root=\"./data\", train=True, download=download, transform=transform\n",
    ")\n",
    "\n",
    "# Guardamos en targets_ las etiquetas de las imágenes del dataset\n",
    "targets_ = train_set.targets\n",
    "\n",
    "# Dividimos el dataset en train y validation\n",
    "train_idx, val_idx = train_test_split(\n",
    "    np.arange(len(targets_)), test_size=0.2, stratify=targets_\n",
    ")\n",
    "\n",
    "# Creamos los samplers para train y validation\n",
    "train_sampler = torch.utils.data.SubsetRandomSampler(train_idx)\n",
    "val_sampler = torch.utils.data.SubsetRandomSampler(val_idx)\n",
    "\n",
    "# Creamos los dataloaders para train y validation\n",
    "train_loader = torch.utils.data.DataLoader(\n",
    "    train_set, sampler=train_sampler, batch_size=batch_size, num_workers=2\n",
    ")\n",
    "val_loader = torch.utils.data.DataLoader(\n",
    "    train_set, sampler=val_sampler, batch_size=batch_size, num_workers=2\n",
    ")\n"
   ]
  },
  {
   "cell_type": "markdown",
   "metadata": {},
   "source": [
    "### Test Set"
   ]
  },
  {
   "cell_type": "code",
   "execution_count": 97,
   "metadata": {},
   "outputs": [],
   "source": [
    "# Descargamos el dataset CIFAR10 y lo guardamos en la variable test_set\n",
    "test_set = torchvision.datasets.CIFAR10(\n",
    "    root=\"./data\", train=False, download=download, transform=transform\n",
    ")\n",
    "test_loader = torch.utils.data.DataLoader(\n",
    "    test_set, batch_size=batch_size, shuffle=False, num_workers=2\n",
    ")\n",
    "\n",
    "classes = (\n",
    "    \"plane\",\n",
    "    \"car\",\n",
    "    \"bird\",\n",
    "    \"cat\",\n",
    "    \"deer\",\n",
    "    \"dog\",\n",
    "    \"frog\",\n",
    "    \"horse\",\n",
    "    \"ship\",\n",
    "    \"truck\",\n",
    ")\n"
   ]
  },
  {
   "cell_type": "markdown",
   "metadata": {},
   "source": [
    "### Visualizacion de Imagenes"
   ]
  },
  {
   "cell_type": "code",
   "execution_count": 51,
   "metadata": {},
   "outputs": [
    {
     "data": {
      "image/png": "[encoded data removed]",
      "text/plain": [
       "<Figure size 640x480 with 1 Axes>"
      ]
     },
     "metadata": {},
     "output_type": "display_data"
    },
    {
     "name": "stdout",
     "output_type": "stream",
     "text": [
      "dog   truck horse plane bird  plane frog  cat   horse car  \n"
     ]
    },
    {
     "data": {
      "text/plain": [
       "torch.Size([3, 32, 32])"
      ]
     },
     "execution_count": 51,
     "metadata": {},
     "output_type": "execute_result"
    }
   ],
   "source": [
    "%matplotlib inline\n",
    "\n",
    "# Funcion para mostrar imagenes\n",
    "def imshow(img):\n",
    "    img = img / 2 + 0.5     \n",
    "    npimg = img.numpy()\n",
    "    plt.imshow(np.transpose(npimg, (1, 2, 0)))\n",
    "    plt.show()\n",
    "\n",
    "# Tomar imagenes random\n",
    "data_iter = iter(train_loader)\n",
    "images, labels = next(data_iter)\n",
    "\n",
    "# Mostramos imagenes\n",
    "imshow(torchvision.utils.make_grid(images))\n",
    "\n",
    "# Printeamos las etiquetas de las imagenes\n",
    "print(' '.join(f'{classes[labels[j]]:5s}' for j in range(batch_size)))\n",
    "\n",
    "image_size = images[0].shape\n",
    "image_size\n"
   ]
  },
  {
   "cell_type": "markdown",
   "metadata": {},
   "source": [
    "## 2. Arquitectura\n",
    "Realizar experimentos variando cantidad de capas densas, nodos, hidden layers y reportar el mejor y peor experimento. ¿Qué estrategia utilizaron? ¿Qué resultados obtuvieron?"
   ]
  },
  {
   "cell_type": "markdown",
   "metadata": {},
   "source": [
    "### MPS Larger3 Softmax Dropout Relu"
   ]
  },
  {
   "cell_type": "code",
   "execution_count": 52,
   "metadata": {},
   "outputs": [
    {
     "data": {
      "text/plain": [
       "Net1(\n",
       "  (fc1): Linear(in_features=3072, out_features=3072, bias=True)\n",
       "  (fc21): Linear(in_features=3072, out_features=1024, bias=True)\n",
       "  (d1): Dropout(p=0.2, inplace=False)\n",
       "  (fc22): Linear(in_features=1024, out_features=800, bias=True)\n",
       "  (d2): Dropout(p=0.2, inplace=False)\n",
       "  (fc23): Linear(in_features=800, out_features=360, bias=True)\n",
       "  (fc24): Linear(in_features=360, out_features=480, bias=True)\n",
       "  (fc25): Linear(in_features=480, out_features=240, bias=True)\n",
       "  (fc26): Linear(in_features=240, out_features=120, bias=True)\n",
       "  (d3): Dropout(p=0.2, inplace=False)\n",
       "  (fc2): Linear(in_features=120, out_features=90, bias=True)\n",
       "  (fc3): Linear(in_features=90, out_features=24, bias=True)\n",
       "  (fc4): Linear(in_features=24, out_features=10, bias=True)\n",
       ")"
      ]
     },
     "execution_count": 52,
     "metadata": {},
     "output_type": "execute_result"
    }
   ],
   "source": [
    "class Net1(nn.Module):\n",
    "    def __init__(self):\n",
    "        super().__init__()\n",
    "        \n",
    "        self.fc1 = nn.Linear(32 * 32 * 3, 32 * 32 * 3)\n",
    "        self.fc21 = nn.Linear(32 * 32 * 3, 32 * 32)\n",
    "        self.d1 = nn.Dropout(0.2)\n",
    "        self.fc22 = nn.Linear(32 * 32, 800)\n",
    "        self.d2 = nn.Dropout(0.2)\n",
    "        self.fc23 = nn.Linear(800, 360)\n",
    "        self.fc24 = nn.Linear(360, 480)\n",
    "        self.fc25 = nn.Linear(480, 240)\n",
    "        self.fc26 = nn.Linear(240, 120)\n",
    "        self.d3 = nn.Dropout(0.2)\n",
    "        self.fc2 = nn.Linear(120, 90)\n",
    "        self.fc3 = nn.Linear(90, 24)\n",
    "        self.fc4 = nn.Linear(24, 10)\n",
    "\n",
    "    def forward(self, x):\n",
    "        x = torch.flatten(x, 1)  # flatten all dimensions except batch\n",
    "        x = F.relu(self.fc1(x))\n",
    "        x = F.relu(self.fc21(x))\n",
    "        x = self.d1(x)\n",
    "        x = F.leaky_relu(self.fc22(x))\n",
    "        x = self.d2(x)\n",
    "        x = F.leaky_relu(self.fc23(x))\n",
    "        x = F.leaky_relu(self.fc24(x))\n",
    "        x = F.leaky_relu(self.fc25(x))\n",
    "        x = F.leaky_relu(self.fc26(x))\n",
    "        x = self.d3(x)\n",
    "        x = F.leaky_relu(self.fc2(x))\n",
    "        x = self.fc3(x)\n",
    "        x = self.fc4(x)\n",
    "        x = F.log_softmax(x, dim=1)\n",
    "        return x\n",
    "\n",
    "experiment_name = \"MPS Larger3 Softmax Dropout Relu\"\n",
    "net = Net1()\n",
    "net.to(device)\n"
   ]
  },
  {
   "cell_type": "markdown",
   "metadata": {},
   "source": [
    "### MPS LeakyRelu Dropout"
   ]
  },
  {
   "cell_type": "code",
   "execution_count": 53,
   "metadata": {},
   "outputs": [
    {
     "data": {
      "text/plain": [
       "Net2(\n",
       "  (fc1): Linear(in_features=3072, out_features=1024, bias=True)\n",
       "  (fc2): Linear(in_features=1024, out_features=512, bias=True)\n",
       "  (d1): Dropout(p=0.4, inplace=False)\n",
       "  (fc3): Linear(in_features=512, out_features=256, bias=True)\n",
       "  (fc4): Linear(in_features=256, out_features=128, bias=True)\n",
       "  (d2): Dropout(p=0.4, inplace=False)\n",
       "  (fc5): Linear(in_features=128, out_features=64, bias=True)\n",
       "  (fc6): Linear(in_features=64, out_features=32, bias=True)\n",
       "  (d3): Dropout(p=0.4, inplace=False)\n",
       "  (fc7): Linear(in_features=32, out_features=16, bias=True)\n",
       "  (fc8): Linear(in_features=16, out_features=8, bias=True)\n",
       "  (d4): Dropout(p=0.4, inplace=False)\n",
       "  (fc9): Linear(in_features=8, out_features=4, bias=True)\n",
       "  (fc10): Linear(in_features=4, out_features=2, bias=True)\n",
       "  (d5): Dropout(p=0.4, inplace=False)\n",
       ")"
      ]
     },
     "execution_count": 53,
     "metadata": {},
     "output_type": "execute_result"
    }
   ],
   "source": [
    "class Net2(nn.Module):\n",
    "    def __init__(self):\n",
    "        super().__init__()\n",
    "\n",
    "        self.fc1 = nn.Linear(32 * 32 * 3, 1024)\n",
    "        self.fc2 = nn.Linear(1024, 512)\n",
    "        self.d1 = nn.Dropout(0.4)\n",
    "        self.fc3 = nn.Linear(512, 256)\n",
    "        self.fc4 = nn.Linear(256, 128)\n",
    "        self.d2 = nn.Dropout(0.4)\n",
    "        self.fc5 = nn.Linear(128, 64)\n",
    "        self.fc6 = nn.Linear(64, 32)\n",
    "        self.d3 = nn.Dropout(0.4)\n",
    "        self.fc7 = nn.Linear(32, 16)\n",
    "        self.fc8 = nn.Linear(16, 8)\n",
    "        self.d4 = nn.Dropout(0.4)\n",
    "        self.fc9 = nn.Linear(8, 4)\n",
    "        self.fc10 = nn.Linear(4, 2)\n",
    "        self.d5 = nn.Dropout(0.4)\n",
    "\n",
    "    def forward(self, x):\n",
    "        x = torch.flatten(x, 1)\n",
    "        x = F.leaky_relu(self.fc1(x))\n",
    "        x = F.leaky_relu(self.fc2(x))\n",
    "        x = self.d1(x)\n",
    "        x = F.leaky_relu(self.fc3(x))\n",
    "        x = F.leaky_relu(self.fc4(x))\n",
    "        x = self.d2(x)\n",
    "        x = F.leaky_relu(self.fc5(x))\n",
    "        x = F.leaky_relu(self.fc6(x))\n",
    "        x = self.d3(x)\n",
    "        x = F.leaky_relu(self.fc7(x))\n",
    "        x = F.leaky_relu(self.fc8(x))\n",
    "        x = self.d4(x)\n",
    "        x = F.leaky_relu(self.fc9(x))\n",
    "        x = F.leaky_relu(self.fc10(x))\n",
    "        x = self.d5(x)\n",
    "        x = F.log_softmax(x, dim=1)\n",
    "        return x\n",
    "\n",
    "experiment_name = \"MPS LeakyRelu Dropout\"\n",
    "net = Net2()\n",
    "net.to(device)\n"
   ]
  },
  {
   "cell_type": "markdown",
   "metadata": {},
   "source": [
    "### MPS Relu ELU LeakyRelu"
   ]
  },
  {
   "cell_type": "code",
   "execution_count": 54,
   "metadata": {},
   "outputs": [
    {
     "data": {
      "text/plain": [
       "Net3(\n",
       "  (fc1): Linear(in_features=3072, out_features=512, bias=True)\n",
       "  (d1): Dropout(p=0.3, inplace=False)\n",
       "  (fc2): Linear(in_features=512, out_features=256, bias=True)\n",
       "  (fc3): Linear(in_features=256, out_features=128, bias=True)\n",
       "  (fc4): Linear(in_features=128, out_features=10, bias=True)\n",
       "  (d2): Dropout(p=0.3, inplace=False)\n",
       "  (fc5): Linear(in_features=64, out_features=10, bias=True)\n",
       "  (fc6): Linear(in_features=32, out_features=10, bias=True)\n",
       "  (fc7): Linear(in_features=16, out_features=10, bias=True)\n",
       "  (d3): Dropout(p=0.3, inplace=False)\n",
       ")"
      ]
     },
     "execution_count": 54,
     "metadata": {},
     "output_type": "execute_result"
    }
   ],
   "source": [
    "class Net3(nn.Module):\n",
    "    def __init__(self):\n",
    "        super().__init__()\n",
    "\n",
    "        self.fc1 = nn.Linear(32 * 32 * 3, 512)\n",
    "        self.d1 = nn.Dropout(0.3)\n",
    "        self.fc2 = nn.Linear(512, 256)\n",
    "        self.fc3 = nn.Linear(256, 128)\n",
    "        self.fc4 = nn.Linear(128, 10)\n",
    "        self.d2 = nn.Dropout(0.3)\n",
    "        self.fc5 = nn.Linear(64, 10)\n",
    "        self.fc6 = nn.Linear(32, 10)\n",
    "        self.fc7 = nn.Linear(16, 10)\n",
    "        self.d3 = nn.Dropout(0.3)\n",
    "\n",
    "    def forward(self, x):\n",
    "        x = torch.flatten(x, 1)\n",
    "        x = F.relu(self.fc1(x))\n",
    "        x = self.d1(x)\n",
    "        x = F.elu(self.fc2(x))\n",
    "        x = F.leaky_relu(self.fc3(x))  \n",
    "        x = self.fc4(x)\n",
    "        x = self.d2(x)\n",
    "        x = F.elu(self.fc5(x))\n",
    "        x = F.leaky_relu(self.fc6(x))\n",
    "        x = F.leaky_relu(self.fc7(x))\n",
    "        x = self.d3(x)\n",
    "        x = F.log_softmax(x, dim=1)\n",
    "        return x\n",
    "\n",
    "experiment_name = \"MPS Relu ELU LeakyRelu\"\n",
    "net = Net3()\n",
    "net.to(device)\n"
   ]
  },
  {
   "cell_type": "code",
   "execution_count": null,
   "metadata": {},
   "outputs": [],
   "source": [
    "nn_model = Net()\n",
    "x = torch.randn(1, 3, 32, 32)\n",
    "y = nn_model(x)\n",
    "\n",
    "make_dot(y, params=dict(nn_model.named_parameters()))\n"
   ]
  },
  {
   "cell_type": "code",
   "execution_count": null,
   "metadata": {},
   "outputs": [],
   "source": [
    "nn_graph = draw_graph(nn_model, torch.zeros([1, 3, 32, 32]).to(device), expand_nested=True)\n",
    "nn_graph.visual_graph\n"
   ]
  },
  {
   "cell_type": "markdown",
   "metadata": {},
   "source": [
    "## 3. Arquitectura CNN\n",
    "Extienda el análisis utilizando capas convolucionales y reportar el mejor y peor experimento. ¿Cómo se compara?"
   ]
  },
  {
   "cell_type": "markdown",
   "metadata": {},
   "source": [
    "### NetConv"
   ]
  },
  {
   "cell_type": "code",
   "execution_count": 57,
   "metadata": {},
   "outputs": [
    {
     "data": {
      "text/plain": [
       "NetConv(\n",
       "  (conv1): Conv2d(3, 6, kernel_size=(5, 5), stride=(1, 1))\n",
       "  (pool): MaxPool2d(kernel_size=2, stride=2, padding=0, dilation=1, ceil_mode=False)\n",
       "  (conv2): Conv2d(6, 16, kernel_size=(5, 5), stride=(1, 1))\n",
       "  (fc1): Linear(in_features=400, out_features=120, bias=True)\n",
       "  (fc21): Linear(in_features=120, out_features=120, bias=True)\n",
       "  (fc22): Linear(in_features=120, out_features=120, bias=True)\n",
       "  (fc23): Linear(in_features=120, out_features=120, bias=True)\n",
       "  (fc2): Linear(in_features=120, out_features=84, bias=True)\n",
       "  (fc3): Linear(in_features=84, out_features=10, bias=True)\n",
       ")"
      ]
     },
     "execution_count": 57,
     "metadata": {},
     "output_type": "execute_result"
    }
   ],
   "source": [
    "class NetConv(nn.Module):\n",
    "    def __init__(self):\n",
    "        super().__init__()\n",
    "        self.conv1 = nn.Conv2d(3, 6, 5)\n",
    "        self.pool = nn.MaxPool2d(2, 2)\n",
    "        self.conv2 = nn.Conv2d(6, 16, 5)\n",
    "        self.fc1 = nn.Linear(16 * 5 * 5, 120)\n",
    "        self.fc21 = nn.Linear(120, 120)\n",
    "        self.fc22 = nn.Linear(120, 120)\n",
    "        self.fc23 = nn.Linear(120, 120)\n",
    "        self.fc2 = nn.Linear(120, 84)\n",
    "        self.fc3 = nn.Linear(84, 10)\n",
    "\n",
    "    def forward(self, x):\n",
    "        x = self.pool(F.leaky_relu(self.conv1(x)))\n",
    "        x = self.pool(F.leaky_relu(self.conv2(x)))\n",
    "        x = torch.flatten(x, 1)  # flatten all dimensions except batch\n",
    "        x = F.leaky_relu(self.fc1(x))\n",
    "        x = F.leaky_relu(self.fc21(x))\n",
    "        x = F.leaky_relu(self.fc22(x))\n",
    "        x = F.leaky_relu(self.fc23(x))\n",
    "        x = F.leaky_relu(self.fc2(x))\n",
    "        x = self.fc3(x)\n",
    "        return x\n",
    "\n",
    "\n",
    "experiment_name = \"MPS Conv LeakyRelu\"\n",
    "net = NetConv()\n",
    "net.to(device)\n"
   ]
  },
  {
   "cell_type": "code",
   "execution_count": null,
   "metadata": {},
   "outputs": [],
   "source": [
    "conv_net_model = NetConv()\n",
    "x = torch.randn(1, 3, 32, 32)\n",
    "\n",
    "make_dot(conv_net_model(x), params=dict(conv_net_model.named_parameters()))\n"
   ]
  },
  {
   "cell_type": "code",
   "execution_count": null,
   "metadata": {},
   "outputs": [],
   "source": [
    "convnet_graph = draw_graph(conv_net_model, torch.zeros([1, 3, 32, 32]).to(device), expand_nested=True)\n",
    "convnet_graph.visual_graph\n"
   ]
  },
  {
   "cell_type": "markdown",
   "metadata": {},
   "source": [
    "### VGG16"
   ]
  },
  {
   "cell_type": "code",
   "execution_count": 58,
   "metadata": {},
   "outputs": [],
   "source": [
    "class VGG16(nn.Module):\n",
    "    def __init__(self, num_classes=10):\n",
    "        super(VGG16, self).__init__()\n",
    "\n",
    "        self.transform = transforms.Compose(\n",
    "            [\n",
    "                transforms.Resize((224, 224)),\n",
    "                transforms.ToTensor(), \n",
    "                transforms.Normalize((0.5, 0.5, 0.5), (0.5, 0.5, 0.5))\n",
    "            ]\n",
    "        )\n",
    "        \n",
    "        self.layer1 = nn.Sequential(\n",
    "            nn.Conv2d(3, 64, kernel_size=3, stride=1, padding=1),\n",
    "            nn.BatchNorm2d(64),\n",
    "            nn.ReLU())\n",
    "        self.layer2 = nn.Sequential(\n",
    "            nn.Conv2d(64, 64, kernel_size=3, stride=1, padding=1),\n",
    "            nn.BatchNorm2d(64),\n",
    "            nn.ReLU(), \n",
    "            nn.MaxPool2d(kernel_size = 2, stride = 2))\n",
    "        self.layer3 = nn.Sequential(\n",
    "            nn.Conv2d(64, 128, kernel_size=3, stride=1, padding=1),\n",
    "            nn.BatchNorm2d(128),\n",
    "            nn.ReLU())\n",
    "        self.layer4 = nn.Sequential(\n",
    "            nn.Conv2d(128, 128, kernel_size=3, stride=1, padding=1),\n",
    "            nn.BatchNorm2d(128),\n",
    "            nn.ReLU(),\n",
    "            nn.MaxPool2d(kernel_size = 2, stride = 2))\n",
    "        self.layer5 = nn.Sequential(\n",
    "            nn.Conv2d(128, 256, kernel_size=3, stride=1, padding=1),\n",
    "            nn.BatchNorm2d(256),\n",
    "            nn.ReLU())\n",
    "        self.layer6 = nn.Sequential(\n",
    "            nn.Conv2d(256, 256, kernel_size=3, stride=1, padding=1),\n",
    "            nn.BatchNorm2d(256),\n",
    "            nn.ReLU())\n",
    "        self.layer7 = nn.Sequential(\n",
    "            nn.Conv2d(256, 256, kernel_size=3, stride=1, padding=1),\n",
    "            nn.BatchNorm2d(256),\n",
    "            nn.ReLU(),\n",
    "            nn.MaxPool2d(kernel_size = 2, stride = 2))\n",
    "        self.layer8 = nn.Sequential(\n",
    "            nn.Conv2d(256, 512, kernel_size=3, stride=1, padding=1),\n",
    "            nn.BatchNorm2d(512),\n",
    "            nn.ReLU())\n",
    "        self.layer9 = nn.Sequential(\n",
    "            nn.Conv2d(512, 512, kernel_size=3, stride=1, padding=1),\n",
    "            nn.BatchNorm2d(512),\n",
    "            nn.ReLU())\n",
    "        self.layer10 = nn.Sequential(\n",
    "            nn.Conv2d(512, 512, kernel_size=3, stride=1, padding=1),\n",
    "            nn.BatchNorm2d(512),\n",
    "            nn.ReLU(),\n",
    "            nn.MaxPool2d(kernel_size = 2, stride = 2))\n",
    "        self.layer11 = nn.Sequential(\n",
    "            nn.Conv2d(512, 512, kernel_size=3, stride=1, padding=1),\n",
    "            nn.BatchNorm2d(512),\n",
    "            nn.ReLU())\n",
    "        self.layer12 = nn.Sequential(\n",
    "            nn.Conv2d(512, 512, kernel_size=3, stride=1, padding=1),\n",
    "            nn.BatchNorm2d(512),\n",
    "            nn.ReLU())\n",
    "        self.layer13 = nn.Sequential(\n",
    "            nn.Conv2d(512, 512, kernel_size=3, stride=1, padding=1),\n",
    "            nn.BatchNorm2d(512),\n",
    "            nn.ReLU(),\n",
    "            nn.MaxPool2d(kernel_size = 2, stride = 2))\n",
    "        self.fc = nn.Sequential(\n",
    "            nn.Dropout(0.5),\n",
    "            nn.Linear(7*7*512, 4096),\n",
    "            nn.ReLU())\n",
    "        self.fc1 = nn.Sequential(\n",
    "            nn.Dropout(0.5),\n",
    "            nn.Linear(4096, 4096),\n",
    "            nn.ReLU())\n",
    "        self.fc2= nn.Sequential(\n",
    "            nn.Linear(4096, num_classes))\n",
    "        \n",
    "    def forward(self, x):\n",
    "        x = self.layer1(x)\n",
    "        x = self.layer2(x)\n",
    "        x = self.layer3(x)\n",
    "        x = self.layer4(x)\n",
    "        x = self.layer5(x)\n",
    "        x = self.layer6(x)\n",
    "        x = self.layer7(x)\n",
    "        x = self.layer8(x)\n",
    "        x = self.layer9(x)\n",
    "        x = self.layer10(x)\n",
    "        x = self.layer11(x)\n",
    "        x = self.layer12(x)\n",
    "        x = self.layer13(x)\n",
    "        x = x.reshape(x.size(0), -1)\n",
    "        x = self.fc(x)\n",
    "        x = self.fc1(x)\n",
    "        x = self.fc2(x)\n",
    "        return x\n",
    "\n",
    "\n",
    "experiment_name = \"VGG16 BatchSize 10\"\n",
    "net = VGG16()\n",
    "net.to(device)\n",
    "\n",
    "# Apply net.transform to all images in train_loader, test_loader, val_loader\n"
   ]
  },
  {
   "cell_type": "code",
   "execution_count": 98,
   "metadata": {},
   "outputs": [],
   "source": [
    "train_loader.dataset.transform = VGG16().transform\n",
    "test_loader.dataset.transform = VGG16().transform\n",
    "val_loader.dataset.transform = VGG16().transform\n"
   ]
  },
  {
   "cell_type": "code",
   "execution_count": null,
   "metadata": {},
   "outputs": [],
   "source": [
    "model = VGG16()\n",
    "model = model.to(device)\n",
    "\n",
    "dataiter = iter(test_loader)\n",
    "data = next(dataiter)\n",
    "test_images, test_labels = data[0].to(device), data[1].to(device)\n",
    "\n",
    "x = test_images[0]\n",
    "x = x.to(device)\n",
    "x = x.unsqueeze(0)\n",
    "\n",
    "make_dot(model(x), params=dict(model.named_parameters()))\n"
   ]
  },
  {
   "cell_type": "code",
   "execution_count": null,
   "metadata": {},
   "outputs": [],
   "source": [
    "fig, ax = plt.subplots(figsize=(20, 20))\n",
    "\n",
    "vgg16_graph = draw_graph(model, test_images, expand_nested=True)\n",
    "vgg16_graph.visual_graph.save('plots/vgg16_graph.png')\n",
    "vgg16_graph.visual_graph\n",
    "\n",
    "# Set title\n",
    "ax.set_title(\"VGG16 Graph\")\n"
   ]
  },
  {
   "cell_type": "markdown",
   "metadata": {},
   "source": [
    "### InceptionNet\n",
    "Para este modelo, lo scamos de https://www.kaggle.com/code/mohamedmustafa/10-implement-inceptionnet-from-scratch-pytorch y lo modificamos para que se adapte a nuestro codigo."
   ]
  },
  {
   "cell_type": "code",
   "execution_count": 59,
   "metadata": {},
   "outputs": [],
   "source": [
    "class ConvBlock(nn.Module):\n",
    "    def __init__(self, In_Channels, Out_Channels, Kernel_Size, Stride, Padding):\n",
    "        super(ConvBlock, self).__init__()\n",
    "        self.Conv = nn.Conv2d(in_channels=In_Channels, out_channels=Out_Channels, kernel_size=Kernel_Size, stride=Stride, padding=Padding)\n",
    "        self.Batch_Norm = nn.BatchNorm2d(num_features=Out_Channels)\n",
    "        self.Activ_Func = nn.ReLU()\n",
    "    \n",
    "    \"\"\"\n",
    "    Ahora construiremos la función forward que define el camino hacia el tensor de entrada dandole a entender al tensor la secuencia de capas que se está atravesando\n",
    "    \"\"\"\n",
    "    \n",
    "    def forward(self, Tensor_Path):\n",
    "        Tensor_Path = self.Conv(Tensor_Path)\n",
    "        Tensor_Path = self.Batch_Norm(Tensor_Path)\n",
    "        Tensor_Path = self.Activ_Func(Tensor_Path)\n",
    "        \n",
    "        return Tensor_Path\n"
   ]
  },
  {
   "cell_type": "code",
   "execution_count": 60,
   "metadata": {},
   "outputs": [],
   "source": [
    "class InceptionBlock(nn.Module):\n",
    "    def __init__(self,In_Channels, Num_Of_Filters_1x1, Num_Of_Filters_3x3, Num_Of_Filters_5x5, Num_Of_Filters_3x3_Reduce,Num_Of_Filters_5x5_Reduce, Pooling):\n",
    "        super(InceptionBlock, self).__init__()\n",
    "        # The In_Channels are the depth of tensor coming from previous layer\n",
    "        # First block contains only filters with kernel size 1x1\n",
    "        self.Block_1 = nn.Sequential(ConvBlock(In_Channels=In_Channels, Out_Channels=Num_Of_Filters_1x1, Kernel_Size=(1,1), Stride=(1,1), Padding=(0,0)))\n",
    "        \n",
    "        # Second Block contains filters with kernel size 1x1 followed by 3x3\n",
    "        self.Block_2 = nn.Sequential(\n",
    "            ConvBlock(In_Channels=In_Channels, Out_Channels= Num_Of_Filters_3x3_Reduce, Kernel_Size=(1,1), Stride=(1,1), Padding=(0,0)),\n",
    "            ConvBlock(In_Channels=Num_Of_Filters_3x3_Reduce, Out_Channels= Num_Of_Filters_3x3, Kernel_Size=(3,3), Stride=(1,1), Padding=(1,1))\n",
    "        )\n",
    "        \n",
    "        # Third Block same as second block unless we'll replace the 3x3 filter with 5x5 \n",
    "        self.Block_3 = nn.Sequential(\n",
    "            ConvBlock(In_Channels=In_Channels, Out_Channels= Num_Of_Filters_5x5_Reduce, Kernel_Size=(1,1), Stride=(1,1), Padding=(0,0)),\n",
    "            ConvBlock(In_Channels=Num_Of_Filters_5x5_Reduce, Out_Channels= Num_Of_Filters_5x5, Kernel_Size=(5,5), Stride=(1,1), Padding=(2,2))\n",
    "        )\n",
    "        \n",
    "        # Fourth Block contains maxpooling layer followed by 1x1 filter\n",
    "        self.Block_4 = nn.Sequential(\n",
    "            nn.MaxPool2d(kernel_size=(3,3), stride=(1,1), padding=(1,1)),\n",
    "            ConvBlock(In_Channels=In_Channels, Out_Channels=Pooling, Kernel_Size=(1,1), Stride=(1,1), Padding=(0,0))\n",
    "        )\n",
    "    def forward(self, Tensor_Path):\n",
    "        First_Block_Out = self.Block_1(Tensor_Path)\n",
    "        Second_Block_Out = self.Block_2(Tensor_Path)\n",
    "        Third_Block_Out = self.Block_3(Tensor_Path)\n",
    "        Fourth_Block_Out = self.Block_4(Tensor_Path)\n",
    "        \n",
    "        Concatenated_Outputs = torch.cat([First_Block_Out,Second_Block_Out, Third_Block_Out, Fourth_Block_Out], dim=1) #dim=1 because we want to concatenate in the depth dimension\n",
    "        return Concatenated_Outputs\n"
   ]
  },
  {
   "cell_type": "code",
   "execution_count": 61,
   "metadata": {},
   "outputs": [],
   "source": [
    "class Auxiliary_Classifier(nn.Module):\n",
    "    def __init__(self, In_Channels, Num_Classes):\n",
    "        super(Auxiliary_Classifier, self).__init__()\n",
    "        self.Adaptive_AvgPool = nn.AdaptiveAvgPool2d(output_size=(4, 4))\n",
    "        self.Conv = nn.Conv2d(in_channels= In_Channels, out_channels=128, kernel_size=(1,1), stride=(1,1), padding=(0,0))\n",
    "        self.Activ_Func = nn.ReLU()\n",
    "        # in_features=2048 because we should flatten the input tensor which has shape of (batch, 4,4,128) so after flaten the tensor will be (batch, 4*4*128)\n",
    "        # out_features=1024 this number from paper\n",
    "        self.FC_1 = nn.Linear(in_features=2048, out_features=1024) \n",
    "        self.DropOut = nn.Dropout(p=0.7) \n",
    "        self.FC_2 = nn.Linear(in_features=1024, out_features= Num_Classes)\n",
    "    \n",
    "    def forward(self, Tensor_Path):\n",
    "        Tensor_Path = self.Adaptive_AvgPool(Tensor_Path)\n",
    "        Tensor_Path = self.Conv(Tensor_Path)\n",
    "        Tensor_Path = self.Activ_Func(Tensor_Path)\n",
    "        Tensor_Path = torch.flatten(Tensor_Path, 1)\n",
    "        Tensor_Path = self.FC_1(Tensor_Path)\n",
    "        Tensor_Path = self.DropOut(Tensor_Path)\n",
    "        Tensor_Path = self.FC_2(Tensor_Path)\n",
    "        \n",
    "        return Tensor_Path\n"
   ]
  },
  {
   "cell_type": "code",
   "execution_count": 62,
   "metadata": {},
   "outputs": [],
   "source": [
    "class InceptionNet_V1(nn.Module):\n",
    "    def __init__(self, Out_Classes):\n",
    "        super(InceptionNet_V1, self).__init__()\n",
    "        self.Conv_1 = ConvBlock(In_Channels=3, Out_Channels=64, Kernel_Size=(7,7), Stride=(2,2), Padding=(3,3))\n",
    "        self.MaxPool_1 = nn.MaxPool2d(kernel_size=(3,3), stride=(2,2), padding=(0,0), ceil_mode=True)\n",
    "        self.Conv_2 = ConvBlock(In_Channels=64, Out_Channels=64, Kernel_Size=(1,1), Stride=(1,1), Padding=(0,0))\n",
    "        self.Conv_3 = ConvBlock(In_Channels=64, Out_Channels=192, Kernel_Size=(3,3), Stride=(1,1), Padding=(1,1))\n",
    "        self.MaxPool_2 = nn.MaxPool2d(kernel_size=(3,3), stride=(2,2), padding=(0,0), ceil_mode=True)\n",
    "        self.Inception_3a = InceptionBlock(In_Channels=192, Num_Of_Filters_1x1=64, Num_Of_Filters_3x3=128\n",
    "                                          , Num_Of_Filters_5x5=32, Num_Of_Filters_3x3_Reduce=96, \n",
    "                                           Num_Of_Filters_5x5_Reduce=16, Pooling=32)\n",
    "        \n",
    "        self.Inception_3b = InceptionBlock(In_Channels=256, Num_Of_Filters_1x1=128, Num_Of_Filters_3x3=192\n",
    "                                          , Num_Of_Filters_5x5=96, Num_Of_Filters_3x3_Reduce=128, \n",
    "                                           Num_Of_Filters_5x5_Reduce=32, Pooling=64)\n",
    "        \n",
    "        self.MaxPool_3 = nn.MaxPool2d(kernel_size=(3,3), stride=(2,2), padding=(0,0), ceil_mode=True)\n",
    "        self.Inception_4a = InceptionBlock(In_Channels=480, Num_Of_Filters_1x1=192, Num_Of_Filters_3x3=208\n",
    "                                          , Num_Of_Filters_5x5=48, Num_Of_Filters_3x3_Reduce=96, \n",
    "                                           Num_Of_Filters_5x5_Reduce=16, Pooling=64)\n",
    "        \n",
    "        self.Inception_4b = InceptionBlock(In_Channels=512, Num_Of_Filters_1x1=160, Num_Of_Filters_3x3=224\n",
    "                                          , Num_Of_Filters_5x5=64, Num_Of_Filters_3x3_Reduce=112, \n",
    "                                           Num_Of_Filters_5x5_Reduce=24, Pooling=64)\n",
    "        \n",
    "        \n",
    "        self.Inception_4c = InceptionBlock(In_Channels=512, Num_Of_Filters_1x1=128, Num_Of_Filters_3x3=256\n",
    "                                          , Num_Of_Filters_5x5=64, Num_Of_Filters_3x3_Reduce=128, \n",
    "                                           Num_Of_Filters_5x5_Reduce=24, Pooling=64)\n",
    "        \n",
    "       \n",
    "        self.Inception_4d = InceptionBlock(In_Channels=512, Num_Of_Filters_1x1=112, Num_Of_Filters_3x3=288\n",
    "                                          , Num_Of_Filters_5x5=64, Num_Of_Filters_3x3_Reduce=144, \n",
    "                                           Num_Of_Filters_5x5_Reduce=32, Pooling=64) \n",
    "        \n",
    "        self.Inception_4e = InceptionBlock(In_Channels=528, Num_Of_Filters_1x1=256, Num_Of_Filters_3x3=320\n",
    "                                          , Num_Of_Filters_5x5=128, Num_Of_Filters_3x3_Reduce=160, \n",
    "                                           Num_Of_Filters_5x5_Reduce=32, Pooling=128) \n",
    "        \n",
    "        self.MaxPool_4 = nn.MaxPool2d(kernel_size=(3,3), stride=(2,2), padding=(0,0), ceil_mode=True)\n",
    "        self.Inception_5a = InceptionBlock(In_Channels=832, Num_Of_Filters_1x1=256, Num_Of_Filters_3x3=320\n",
    "                                          , Num_Of_Filters_5x5=128, Num_Of_Filters_3x3_Reduce=160, \n",
    "                                           Num_Of_Filters_5x5_Reduce=32, Pooling=128) \n",
    "        \n",
    "        self.Inception_5b = InceptionBlock(In_Channels=832, Num_Of_Filters_1x1=384, Num_Of_Filters_3x3=384\n",
    "                                          , Num_Of_Filters_5x5=128, Num_Of_Filters_3x3_Reduce=192, \n",
    "                                           Num_Of_Filters_5x5_Reduce=48, Pooling=128) \n",
    "        \n",
    "        self.AvgPool_1 = nn.AdaptiveAvgPool2d(output_size=(1,1))\n",
    "        self.DropOut = nn.Dropout(p=0.4)\n",
    "        self.FC = nn.Linear(in_features=1024, out_features=Out_Classes)\n",
    "        \n",
    "        self.Auxiliary_4a = Auxiliary_Classifier(In_Channels=512, Num_Classes=Out_Classes)\n",
    "        self.Auxiliary_4d = Auxiliary_Classifier(In_Channels=528, Num_Classes=Out_Classes)\n",
    "        \n",
    "    def forward(self, Tensor_Path):\n",
    "        Tensor_Path = self.Conv_1(Tensor_Path)\n",
    "        Tensor_Path = self.MaxPool_1(Tensor_Path)\n",
    "        Tensor_Path = self.Conv_2(Tensor_Path)\n",
    "        Tensor_Path = self.Conv_3(Tensor_Path)\n",
    "        Tensor_Path = self.MaxPool_2(Tensor_Path)\n",
    "        Tensor_Path = self.Inception_3a(Tensor_Path)\n",
    "        Tensor_Path = self.Inception_3b(Tensor_Path)\n",
    "        Tensor_Path = self.MaxPool_3(Tensor_Path)\n",
    "        Tensor_Path = self.Inception_4a(Tensor_Path)\n",
    "        Auxiliary_1 = self.Auxiliary_4a(Tensor_Path)\n",
    "        Tensor_Path = self.Inception_4b(Tensor_Path)\n",
    "        Tensor_Path = self.Inception_4c(Tensor_Path)\n",
    "        Tensor_Path = self.Inception_4d(Tensor_Path)\n",
    "        Auxiliary_2 = self.Auxiliary_4d(Tensor_Path)\n",
    "        Tensor_Path = self.Inception_4e(Tensor_Path)\n",
    "        Tensor_Path = self.MaxPool_4(Tensor_Path)\n",
    "        Tensor_Path = self.Inception_5a(Tensor_Path)\n",
    "        Tensor_Path = self.Inception_5b(Tensor_Path)\n",
    "        Tensor_Path = self.AvgPool_1(Tensor_Path)\n",
    "        Tensor_Path = torch.flatten(Tensor_Path, 1)\n",
    "        Tensor_Path = self.DropOut(Tensor_Path)\n",
    "        Tensor_Path = self.FC(Tensor_Path)\n",
    "        \n",
    "        return Tensor_Path, Auxiliary_1, Auxiliary_2\n",
    "\n",
    "\n",
    "experiment_name = \"InceptionNetV1 BatchSize 12 Momentum 0.8 LR 0.005 WeightDecay 0.0005\"\n",
    "\n",
    "net = InceptionNet_V1(10)\n",
    "net.to(device)"
   ]
  },
  {
   "cell_type": "markdown",
   "metadata": {},
   "source": [
    "## 4. Funciones de activación\n",
    "Realizar experimentos variando distintas funciones de activación y reportar el mejor y peor experimento. Explicar."
   ]
  },
  {
   "cell_type": "markdown",
   "metadata": {},
   "source": [
    "## 5. Optimizadores\n",
    "Realizar experimentos evaluando distintos optimizadores, schedulers y reportar el mejor y peor experimento. ¿Qué estrategia utilizaron? ¿Qué resultados obtuvieron?"
   ]
  },
  {
   "cell_type": "code",
   "execution_count": 73,
   "metadata": {},
   "outputs": [],
   "source": [
    "## Parámetros de entrenamiento\n",
    "learning_rate = 0.005\n",
    "momentum = 0.8\n",
    "epochs = 12\n"
   ]
  },
  {
   "cell_type": "code",
   "execution_count": 74,
   "metadata": {},
   "outputs": [],
   "source": [
    "# Optimizador y función de pérdida\n",
    "criterion = nn.CrossEntropyLoss()\n",
    "\n",
    "optimizer = optim.SGD(\n",
    "    net.parameters(),\n",
    "    lr=learning_rate,\n",
    "    momentum=momentum,\n",
    "    weight_decay=0.0005,\n",
    ")\n"
   ]
  },
  {
   "cell_type": "markdown",
   "metadata": {},
   "source": [
    "## 6. Entrenamiento\n",
    "Realizar experimentos evaluando distintos batch-sizes, epochs y reportar el mejor y peor experimento. ¿Qué resultados obtuvieron?"
   ]
  },
  {
   "cell_type": "markdown",
   "metadata": {},
   "source": [
    "### Definicion nombres"
   ]
  },
  {
   "cell_type": "markdown",
   "metadata": {},
   "source": [
    "#### Experimentos que no son InsertionNet"
   ]
  },
  {
   "cell_type": "code",
   "execution_count": 82,
   "metadata": {},
   "outputs": [
    {
     "data": {
      "text/plain": [
       "'MPS LeakyRelu Dropout SGD'"
      ]
     },
     "execution_count": 82,
     "metadata": {},
     "output_type": "execute_result"
    }
   ],
   "source": [
    "# Nombre del experimento\n",
    "project_name = \"TP3\"\n",
    "experiment_name += \" \" + optimizer.__class__.__name__\n",
    "experiment_name\n"
   ]
  },
  {
   "cell_type": "code",
   "execution_count": 75,
   "metadata": {},
   "outputs": [
    {
     "data": {
      "text/plain": [
       "'InceptionNetV1 BatchSize 10 Momentum 0.6 LR 0.005 WeightDecay 0.0005'"
      ]
     },
     "execution_count": 75,
     "metadata": {},
     "output_type": "execute_result"
    }
   ],
   "source": [
    "experiment_name\n"
   ]
  },
  {
   "cell_type": "code",
   "execution_count": 100,
   "metadata": {},
   "outputs": [
    {
     "data": {
      "text/html": [
       "Tracking run with wandb version 0.15.12"
      ],
      "text/plain": [
       "<IPython.core.display.HTML object>"
      ]
     },
     "metadata": {},
     "output_type": "display_data"
    },
    {
     "data": {
      "text/html": [
       "Run data is saved locally in <code>c:\\Users\\nachi\\Desktop\\code\\TP3_TDVI\\wandb\\run-20231103_075725-9xxy8inj</code>"
      ],
      "text/plain": [
       "<IPython.core.display.HTML object>"
      ]
     },
     "metadata": {},
     "output_type": "display_data"
    },
    {
     "data": {
      "text/html": [
       "Syncing run <strong><a href='https://wandb.ai/pardo/TP3/runs/9xxy8inj' target=\"_blank\">InceptionNetV1 BatchSize 12 Momentum 0.8 LR 0.005 WeightDecay 0.0005</a></strong> to <a href='https://wandb.ai/pardo/TP3' target=\"_blank\">Weights & Biases</a> (<a href='https://wandb.me/run' target=\"_blank\">docs</a>)<br/>"
      ],
      "text/plain": [
       "<IPython.core.display.HTML object>"
      ]
     },
     "metadata": {},
     "output_type": "display_data"
    },
    {
     "data": {
      "text/html": [
       " View project at <a href='https://wandb.ai/pardo/TP3' target=\"_blank\">https://wandb.ai/pardo/TP3</a>"
      ],
      "text/plain": [
       "<IPython.core.display.HTML object>"
      ]
     },
     "metadata": {},
     "output_type": "display_data"
    },
    {
     "data": {
      "text/html": [
       " View run at <a href='https://wandb.ai/pardo/TP3/runs/9xxy8inj' target=\"_blank\">https://wandb.ai/pardo/TP3/runs/9xxy8inj</a>"
      ],
      "text/plain": [
       "<IPython.core.display.HTML object>"
      ]
     },
     "metadata": {},
     "output_type": "display_data"
    },
    {
     "data": {
      "text/html": [
       "<button onClick=\"this.nextSibling.style.display='block';this.style.display='none';\">Display W&B run</button><iframe src='https://wandb.ai/pardo/TP3/runs/9xxy8inj?jupyter=true' style='border:none;width:100%;height:420px;display:none;'></iframe>"
      ],
      "text/plain": [
       "<wandb.sdk.wandb_run.Run at 0x25e0f6922e0>"
      ]
     },
     "execution_count": 100,
     "metadata": {},
     "output_type": "execute_result"
    }
   ],
   "source": [
    "wandb.finish()\n",
    "wandb.init(\n",
    "    # seteamos el projecto donde se va a guardar el experimento en wandb\n",
    "    project=project_name,\n",
    "    name=experiment_name,\n",
    "    \n",
    "    # trackeamos los hiperparámetros y las métricas\n",
    "    config={\n",
    "        \"learning_rate\": learning_rate,\n",
    "        \"momentum\": momentum,\n",
    "        \"batch_size\": batch_size,\n",
    "        \"epochs\": epochs,\n",
    "    },\n",
    ")\n"
   ]
  },
  {
   "cell_type": "markdown",
   "metadata": {},
   "source": [
    "### Entrenamientos"
   ]
  },
  {
   "cell_type": "markdown",
   "metadata": {},
   "source": [
    "#### Entrenamiento para InceptionNet"
   ]
  },
  {
   "cell_type": "code",
   "execution_count": 101,
   "metadata": {},
   "outputs": [
    {
     "name": "stderr",
     "output_type": "stream",
     "text": [
      "Epoch:   0%|          | 0/12 [01:47<?, ?it/s, train_accuracy=0, val_accuracy=0, train_loss=1.37e+4, val_loss=0, train iter=928]"
     ]
    }
   ],
   "source": [
    "def Train_Validate_InceptionV1(Model, Train_Loader, Val_Loader, Num_Of_Train_Samples, Num_Of_Val_Samples, Criterion,Optimizer, Num_Epochs):\n",
    "    # --------------------------------- TRAIN SET -----------------------------#\n",
    "    \n",
    "    # La accuracy y la loss de train y validation se guardan en estas listas por epoch\n",
    "    Train_Loss_History = []\n",
    "    Train_Accuracy_History = []\n",
    "    Val_Loss_History = []\n",
    "    Val_Accuracy_History = []\n",
    "\n",
    "    Train_Accuracy = 0\n",
    "    Val_Accuracy = 0\n",
    "    Train_Cummulative_Loss = 0\n",
    "    Val_Cummulative_Loss = 0\n",
    "    \n",
    "    iterator = tqdm(\n",
    "        range(Num_Epochs),\n",
    "        total=epochs,\n",
    "        desc=\"Epoch\"\n",
    "    )\n",
    "    for epoch in iterator:\n",
    "\n",
    "        Num_Of_Predicted_Correctly = 0 # numero de predicciones correctas\n",
    "        Train_Cummulative_Loss = 0 # suma de las loss de cada batch\n",
    "        \n",
    "        for i, data in enumerate(Train_Loader):\n",
    "            batch_samples, targets = data\n",
    "            batch_samples = batch_samples.to(device=device)\n",
    "            targets = targets.to(device=device)\n",
    "            \n",
    "            # pasa las muestras de train por la red (Forward Path)\n",
    "            Network_Predictions, Aux_1_Predictions, Aux_2_Predictions = Model(batch_samples)\n",
    "            \n",
    "            # Network Loss contiene la loss promedio de cada batch\n",
    "            Network_Loss = Criterion(Network_Predictions, targets)\n",
    "            Aux_1_Loss = Criterion(Aux_1_Predictions, targets)\n",
    "            Aux_2_Loss = Criterion(Aux_2_Predictions, targets)\n",
    "            \n",
    "            # Pondera las losses de cada bloque de la red como dice el paper\n",
    "            Main_Loss = Network_Loss + (0.3 * Aux_1_Loss) + (0.3 * Aux_2_Loss)\n",
    "            \n",
    "            # Backward Propagation\n",
    "            Optimizer.zero_grad() # gradientes a cero\n",
    "            Main_Loss.backward() # backpropagation\n",
    "            Optimizer.step() # actualizacion de pesos\n",
    "            \n",
    "            _, Train_Samples_Predictions = Network_Predictions.max(1)\n",
    "            Train_Samples_Predictions = Train_Samples_Predictions.to(device=device)\n",
    "            Num_Of_Predicted_Correctly += (Train_Samples_Predictions == targets).float().sum().item()\n",
    "            Train_Cummulative_Loss += Main_Loss.data.item() * batch_samples.shape[0]\n",
    "            \n",
    "            iterator.set_postfix(\n",
    "                {\n",
    "                    \"train_accuracy\": Train_Accuracy,\n",
    "                    \"val_accuracy\": Val_Accuracy,\n",
    "                    \"train_loss\": Train_Cummulative_Loss,\n",
    "                    \"val_loss\": Val_Cummulative_Loss,\n",
    "                    \"train iter\": i,\n",
    "                }\n",
    "            )\n",
    "\n",
    "        Train_Cummulative_Loss /= Num_Of_Train_Samples\n",
    "        Train_Loss_History.append(Train_Cummulative_Loss)\n",
    "        Train_Accuracy = 100 * Num_Of_Predicted_Correctly / Num_Of_Train_Samples\n",
    "        Train_Accuracy_History.append(Train_Accuracy)\n",
    "\n",
    "\n",
    "    \n",
    "    #----------------------------- VALIDATION SET -----------------------------#\n",
    "    \n",
    "        Num_Of_Predicted_Correctly = 0\n",
    "        with torch.no_grad(): # Como estamos en validacion no necesitamos calcular los gradientes\n",
    "            Val_Cummulative_Loss = 0\n",
    "            for batch_samples,targets in Val_Loader:\n",
    "                batch_samples = batch_samples.to(device=device)\n",
    "                targets = targets.to(device=device)\n",
    "\n",
    "                # psamos los samples de validacion por la red (Forward Path)\n",
    "                Network_Predictions, Aux_1_Predictions, Aux_2_Predictions = Model(batch_samples)\n",
    "\n",
    "                # Network loss guarda la loss promedio de cada batch\n",
    "                Network_Loss = Criterion(Network_Predictions, targets)\n",
    "                Aux_1_Loss = Criterion(Aux_1_Predictions, targets)\n",
    "                Aux_2_Loss = Criterion(Aux_2_Predictions, targets)\n",
    "\n",
    "                # Pondera las losses de cada bloque de la red como dice el paper\n",
    "                Main_Loss = Network_Loss + (0.3 * Aux_1_Loss) + (0.3 * Aux_2_Loss)\n",
    "\n",
    "                _, Val_Samples_Predictions = Network_Predictions.max(1)\n",
    "                Val_Samples_Predictions = Val_Samples_Predictions.to(device=device)\n",
    "                Num_Of_Predicted_Correctly += (Val_Samples_Predictions == targets).float().sum().item()\n",
    "                Val_Cummulative_Loss += Main_Loss.data.item() * batch_samples.shape[0]\n",
    "            \n",
    "            Val_Cummulative_Loss /= Num_Of_Val_Samples\n",
    "            Val_Loss_History.append(Val_Cummulative_Loss)\n",
    "            Val_Accuracy = 100 * Num_Of_Predicted_Correctly / Num_Of_Val_Samples\n",
    "            Val_Accuracy_History.append(Val_Accuracy)\n",
    "                    \n",
    "            wandb.log(\n",
    "                {\n",
    "                    \"train_accuracy\": Train_Accuracy,\n",
    "                    \"val_accuracy\": Val_Accuracy,\n",
    "                    \"train_loss\": Train_Cummulative_Loss,\n",
    "                    \"val_loss\": Val_Cummulative_Loss,\n",
    "                }\n",
    "            )\n",
    "\n",
    "            iterator.set_postfix(\n",
    "                {\n",
    "                    \"train_accuracy\": Train_Accuracy,\n",
    "                    \"val_accuracy\": Val_Accuracy,\n",
    "                    \"train_loss\": Train_Cummulative_Loss,\n",
    "                    \"val_loss\": Val_Cummulative_Loss,\n",
    "                }\n",
    "            )\n",
    "        \n",
    "    torch.save(Model.state_dict(), \"InceptionNet_Model\")\n",
    "    return Train_Accuracy_History, Val_Accuracy_History, Train_Loss_History, Val_Loss_History\n",
    "\n",
    "def Propagate_InceptionNetwork(model, optimizer, criterion, epochs):\n",
    "    if type(model) == InceptionNet_V1:    \n",
    "        Train_Validate_InceptionV1(\n",
    "            Model = model, \n",
    "            Train_Loader = train_loader,\n",
    "            Val_Loader = val_loader,\n",
    "            Num_Of_Train_Samples = 40000,\n",
    "            Num_Of_Val_Samples = 10000,\n",
    "            Criterion = criterion,\n",
    "            Optimizer = optimizer,\n",
    "            Num_Epochs = epochs\n",
    "        )\n",
    "    else:\n",
    "        raise Exception(\"Modelo no es InceptionNetV1\")\n",
    "\n",
    "Propagate_InceptionNetwork(net, optimizer, criterion, epochs)\n",
    "\n",
    "wandb.finish()\n"
   ]
  },
  {
   "cell_type": "markdown",
   "metadata": {},
   "source": [
    "Ejemplo de guardar el modelo. Sin embargo lo deberiamos guardar para el que mejor dio en validation."
   ]
  },
  {
   "cell_type": "code",
   "execution_count": null,
   "metadata": {},
   "outputs": [],
   "source": [
    "PATH = './cifar_vgg_16_net.pth'\n",
    "torch.save(net.state_dict(), PATH)\n"
   ]
  },
  {
   "cell_type": "markdown",
   "metadata": {},
   "source": [
    "#### Entrenamiento para todas las demas estructuras"
   ]
  },
  {
   "cell_type": "code",
   "execution_count": 80,
   "metadata": {},
   "outputs": [
    {
     "name": "stderr",
     "output_type": "stream",
     "text": [
      "Epoch:   0%|          | 0/12 [00:04<?, ?it/s]"
     ]
    },
    {
     "name": "stdout",
     "output_type": "stream",
     "text": [
      "mat1 and mat2 shapes cannot be multiplied (8x512 and 25088x4096)\n"
     ]
    },
    {
     "name": "stderr",
     "output_type": "stream",
     "text": [
      "\n"
     ]
    },
    {
     "data": {
      "text/html": [
       "Waiting for W&B process to finish... <strong style=\"color:green\">(success).</strong>"
      ],
      "text/plain": [
       "<IPython.core.display.HTML object>"
      ]
     },
     "metadata": {},
     "output_type": "display_data"
    },
    {
     "data": {
      "text/html": [
       " View run <strong style=\"color:#cdcd00\">InceptionNetV1 BatchSize 12 Momentum 0.8 LR 0.005 WeightDecay 0.0005</strong> at: <a href='https://wandb.ai/pardo/TP3/runs/orb60p7v' target=\"_blank\">https://wandb.ai/pardo/TP3/runs/orb60p7v</a><br/>Synced 5 W&B file(s), 0 media file(s), 0 artifact file(s) and 0 other file(s)"
      ],
      "text/plain": [
       "<IPython.core.display.HTML object>"
      ]
     },
     "metadata": {},
     "output_type": "display_data"
    },
    {
     "data": {
      "text/html": [
       "Find logs at: <code>.\\wandb\\run-20231103_070813-orb60p7v\\logs</code>"
      ],
      "text/plain": [
       "<IPython.core.display.HTML object>"
      ]
     },
     "metadata": {},
     "output_type": "display_data"
    }
   ],
   "source": [
    "try:\n",
    "    iterator = tqdm(\n",
    "        range(epochs),\n",
    "        total=epochs,\n",
    "        desc=\"Epoch\"\n",
    "    )\n",
    "\n",
    "    for epoch in iterator:\n",
    "        \n",
    "        # ---------------- SECCION DE TRAIN -----------------\n",
    "\n",
    "        running_loss = 0.0\n",
    "        train_correct = 0\n",
    "        total = 0\n",
    "\n",
    "        for i, data in enumerate(train_loader, 0):\n",
    "\n",
    "            # Los datos son una lista de [inputs, labels]\n",
    "            # inputs, labels = data\n",
    "            inputs, labels = data[0].to(device), data[1].to(device)\n",
    "\n",
    "            # Reiniciamos gradientes\n",
    "            optimizer.zero_grad()\n",
    "\n",
    "            # forward + backward + optimize\n",
    "\n",
    "            outputs = net(inputs) # forward\n",
    "            loss = criterion(outputs, labels) # perdida\n",
    "            loss.backward() # backward\n",
    "            optimizer.step() # optimizacion\n",
    "\n",
    "            # print statistics\n",
    "            running_loss += loss.item()\n",
    "            # if i % 200 == 199:  # print every 200 mini-batches\n",
    "            #    print(f\"[{epoch + 1}, {i + 1:5d}] loss: {running_loss / 2000:.3f}\")\n",
    "\n",
    "            _, predicted = torch.max(outputs.data, 1)\n",
    "            total += labels.size(0)\n",
    "            train_correct += (predicted == labels).sum().item()\n",
    "\n",
    "            iterator.set_postfix(\n",
    "                {\n",
    "                    \"train_accuracy\": 100 * train_correct / total,\n",
    "                    \"train_loss\": running_loss / total,\n",
    "                }\n",
    "            )\n",
    "\n",
    "        \n",
    "        # ---------------- SECCION DE VALIDACION ----------------\n",
    "        \n",
    "        train_accuracy = 100 * train_correct / total\n",
    "        running_loss = running_loss / total\n",
    "\n",
    "        val_correct = 0\n",
    "        total = 0\n",
    "        val_loss = 0\n",
    "        \n",
    "        # Esta parte es sólo validación, no requiere entrenar, por lo que no calculamos gradientes.\n",
    "        with torch.no_grad():\n",
    "            for data in val_loader:\n",
    "                images, labels = data[0].to(device), data[1].to(device)\n",
    "                \n",
    "                # Calculamos las salidas de la red para las imágenes de validación\n",
    "                outputs = net(images)\n",
    "                \n",
    "                # La clase con mayor valor de salida es la predicción de la red\n",
    "                _, predicted = torch.max(outputs.data, 1)\n",
    "                total += labels.size(0)\n",
    "                val_correct += (predicted == labels).sum().item()\n",
    "                val_loss += criterion(outputs, labels).item()\n",
    "\n",
    "        # Fin de la validación\n",
    "\n",
    "        val_accuracy = 100 * val_correct / total\n",
    "        val_loss = val_loss / total\n",
    "\n",
    "        wandb.log(\n",
    "            {\n",
    "                \"train_accuracy\": train_accuracy,\n",
    "                \"val_accuracy\": val_accuracy,\n",
    "                \"train_loss\": running_loss,\n",
    "                \"val_loss\": val_loss,\n",
    "            }\n",
    "        )\n",
    "\n",
    "        iterator.set_postfix(\n",
    "            {\n",
    "                \"train_accuracy\": train_accuracy,\n",
    "                \"val_accuracy\": val_accuracy,\n",
    "                \"train_loss\": running_loss,\n",
    "                \"val_loss\": val_loss,\n",
    "            }\n",
    "        )\n",
    "\n",
    "    print(\"Finished Training\")\n",
    "except Exception as e:\n",
    "    print(e)\n",
    "finally:\n",
    "    wandb.finish()\n"
   ]
  },
  {
   "cell_type": "code",
   "execution_count": 26,
   "metadata": {},
   "outputs": [
    {
     "name": "stderr",
     "output_type": "stream",
     "text": [
      "wandb: ERROR Dropped streaming file chunk (see wandb/debug-internal.log)\n"
     ]
    }
   ],
   "source": [
    "wandb.finish()\n"
   ]
  },
  {
   "cell_type": "markdown",
   "metadata": {},
   "source": [
    "Ejemplo de guardar el modelo. Sin embargo lo deberiamos guardar para el que mejor dio en validation."
   ]
  },
  {
   "cell_type": "code",
   "execution_count": 79,
   "metadata": {},
   "outputs": [],
   "source": [
    "PATH = './cifar_incep_net1.pth'\n",
    "torch.save(net.state_dict(), PATH)\n"
   ]
  },
  {
   "cell_type": "markdown",
   "metadata": {},
   "source": [
    "## 7. Regularización\n",
    "Evaluar alguna(s) técnica(s) de regularización. ¿Qué resultados obtuvieron?"
   ]
  },
  {
   "cell_type": "markdown",
   "metadata": {},
   "source": [
    "## 8. Evaluación final\n",
    "Evaluar el mejor modelo, es decir, el mejor de los ejercicios anteriores, con el set de test."
   ]
  },
  {
   "cell_type": "code",
   "execution_count": 94,
   "metadata": {},
   "outputs": [
    {
     "data": {
      "image/png": "[encoded data removed]",
      "text/plain": [
       "<Figure size 640x480 with 1 Axes>"
      ]
     },
     "metadata": {},
     "output_type": "display_data"
    },
    {
     "name": "stdout",
     "output_type": "stream",
     "text": [
      "GroundTruth:  cat   ship  ship  plane frog  frog  car   frog  cat   car  \n"
     ]
    },
    {
     "ename": "RuntimeError",
     "evalue": "mat1 and mat2 shapes cannot be multiplied (10x512 and 25088x4096)",
     "output_type": "error",
     "traceback": [
      "\u001b[1;31m---------------------------------------------------------------------------\u001b[0m",
      "\u001b[1;31mRuntimeError\u001b[0m                              Traceback (most recent call last)",
      "\u001b[1;32mc:\\Users\\nachi\\Desktop\\code\\TP3_TDVI\\TP3.ipynb Cell 66\u001b[0m line \u001b[0;36m1\n\u001b[0;32m     <a href='vscode-notebook-cell:/c%3A/Users/nachi/Desktop/code/TP3_TDVI/TP3.ipynb#Y320sZmlsZQ%3D%3D?line=9'>10</a>\u001b[0m \u001b[39mprint\u001b[39m(\u001b[39m\"\u001b[39m\u001b[39mGroundTruth: \u001b[39m\u001b[39m\"\u001b[39m, \u001b[39m\"\u001b[39m\u001b[39m \u001b[39m\u001b[39m\"\u001b[39m\u001b[39m.\u001b[39mjoin(\u001b[39mf\u001b[39m\u001b[39m\"\u001b[39m\u001b[39m{\u001b[39;00mclasses[test_labels[j]]\u001b[39m:\u001b[39;00m\u001b[39m5s\u001b[39m\u001b[39m}\u001b[39;00m\u001b[39m\"\u001b[39m \u001b[39mfor\u001b[39;00m j \u001b[39min\u001b[39;00m \u001b[39mrange\u001b[39m(batch_size)))\n\u001b[0;32m     <a href='vscode-notebook-cell:/c%3A/Users/nachi/Desktop/code/TP3_TDVI/TP3.ipynb#Y320sZmlsZQ%3D%3D?line=11'>12</a>\u001b[0m test_images, test_labels \u001b[39m=\u001b[39m data[\u001b[39m0\u001b[39m]\u001b[39m.\u001b[39mto(device), data[\u001b[39m1\u001b[39m]\u001b[39m.\u001b[39mto(device)\n\u001b[1;32m---> <a href='vscode-notebook-cell:/c%3A/Users/nachi/Desktop/code/TP3_TDVI/TP3.ipynb#Y320sZmlsZQ%3D%3D?line=12'>13</a>\u001b[0m outputs \u001b[39m=\u001b[39m net(test_images)\n\u001b[0;32m     <a href='vscode-notebook-cell:/c%3A/Users/nachi/Desktop/code/TP3_TDVI/TP3.ipynb#Y320sZmlsZQ%3D%3D?line=13'>14</a>\u001b[0m _, predicted \u001b[39m=\u001b[39m torch\u001b[39m.\u001b[39mmax(outputs, \u001b[39m1\u001b[39m)\n\u001b[0;32m     <a href='vscode-notebook-cell:/c%3A/Users/nachi/Desktop/code/TP3_TDVI/TP3.ipynb#Y320sZmlsZQ%3D%3D?line=15'>16</a>\u001b[0m \u001b[39mprint\u001b[39m(\u001b[39m'\u001b[39m\u001b[39mPredicted: \u001b[39m\u001b[39m'\u001b[39m, \u001b[39m'\u001b[39m\u001b[39m \u001b[39m\u001b[39m'\u001b[39m\u001b[39m.\u001b[39mjoin(\u001b[39mf\u001b[39m\u001b[39m'\u001b[39m\u001b[39m{\u001b[39;00mclasses[predicted[j]]\u001b[39m:\u001b[39;00m\u001b[39m5s\u001b[39m\u001b[39m}\u001b[39;00m\u001b[39m'\u001b[39m\n\u001b[0;32m     <a href='vscode-notebook-cell:/c%3A/Users/nachi/Desktop/code/TP3_TDVI/TP3.ipynb#Y320sZmlsZQ%3D%3D?line=16'>17</a>\u001b[0m                               \u001b[39mfor\u001b[39;00m j \u001b[39min\u001b[39;00m \u001b[39mrange\u001b[39m(\u001b[39m4\u001b[39m)))\n",
      "File \u001b[1;32mc:\\Users\\nachi\\.conda\\envs\\GPU\\lib\\site-packages\\torch\\nn\\modules\\module.py:1194\u001b[0m, in \u001b[0;36mModule._call_impl\u001b[1;34m(self, *input, **kwargs)\u001b[0m\n\u001b[0;32m   1190\u001b[0m \u001b[39m# If we don't have any hooks, we want to skip the rest of the logic in\u001b[39;00m\n\u001b[0;32m   1191\u001b[0m \u001b[39m# this function, and just call forward.\u001b[39;00m\n\u001b[0;32m   1192\u001b[0m \u001b[39mif\u001b[39;00m \u001b[39mnot\u001b[39;00m (\u001b[39mself\u001b[39m\u001b[39m.\u001b[39m_backward_hooks \u001b[39mor\u001b[39;00m \u001b[39mself\u001b[39m\u001b[39m.\u001b[39m_forward_hooks \u001b[39mor\u001b[39;00m \u001b[39mself\u001b[39m\u001b[39m.\u001b[39m_forward_pre_hooks \u001b[39mor\u001b[39;00m _global_backward_hooks\n\u001b[0;32m   1193\u001b[0m         \u001b[39mor\u001b[39;00m _global_forward_hooks \u001b[39mor\u001b[39;00m _global_forward_pre_hooks):\n\u001b[1;32m-> 1194\u001b[0m     \u001b[39mreturn\u001b[39;00m forward_call(\u001b[39m*\u001b[39m\u001b[39minput\u001b[39m, \u001b[39m*\u001b[39m\u001b[39m*\u001b[39mkwargs)\n\u001b[0;32m   1195\u001b[0m \u001b[39m# Do not call functions when jit is used\u001b[39;00m\n\u001b[0;32m   1196\u001b[0m full_backward_hooks, non_full_backward_hooks \u001b[39m=\u001b[39m [], []\n",
      "\u001b[1;32mc:\\Users\\nachi\\Desktop\\code\\TP3_TDVI\\TP3.ipynb Cell 66\u001b[0m line \u001b[0;36m9\n\u001b[0;32m     <a href='vscode-notebook-cell:/c%3A/Users/nachi/Desktop/code/TP3_TDVI/TP3.ipynb#Y320sZmlsZQ%3D%3D?line=93'>94</a>\u001b[0m x \u001b[39m=\u001b[39m \u001b[39mself\u001b[39m\u001b[39m.\u001b[39mlayer13(x)\n\u001b[0;32m     <a href='vscode-notebook-cell:/c%3A/Users/nachi/Desktop/code/TP3_TDVI/TP3.ipynb#Y320sZmlsZQ%3D%3D?line=94'>95</a>\u001b[0m x \u001b[39m=\u001b[39m x\u001b[39m.\u001b[39mreshape(x\u001b[39m.\u001b[39msize(\u001b[39m0\u001b[39m), \u001b[39m-\u001b[39m\u001b[39m1\u001b[39m)\n\u001b[1;32m---> <a href='vscode-notebook-cell:/c%3A/Users/nachi/Desktop/code/TP3_TDVI/TP3.ipynb#Y320sZmlsZQ%3D%3D?line=95'>96</a>\u001b[0m x \u001b[39m=\u001b[39m \u001b[39mself\u001b[39;49m\u001b[39m.\u001b[39;49mfc(x)\n\u001b[0;32m     <a href='vscode-notebook-cell:/c%3A/Users/nachi/Desktop/code/TP3_TDVI/TP3.ipynb#Y320sZmlsZQ%3D%3D?line=96'>97</a>\u001b[0m x \u001b[39m=\u001b[39m \u001b[39mself\u001b[39m\u001b[39m.\u001b[39mfc1(x)\n\u001b[0;32m     <a href='vscode-notebook-cell:/c%3A/Users/nachi/Desktop/code/TP3_TDVI/TP3.ipynb#Y320sZmlsZQ%3D%3D?line=97'>98</a>\u001b[0m x \u001b[39m=\u001b[39m \u001b[39mself\u001b[39m\u001b[39m.\u001b[39mfc2(x)\n",
      "File \u001b[1;32mc:\\Users\\nachi\\.conda\\envs\\GPU\\lib\\site-packages\\torch\\nn\\modules\\module.py:1194\u001b[0m, in \u001b[0;36mModule._call_impl\u001b[1;34m(self, *input, **kwargs)\u001b[0m\n\u001b[0;32m   1190\u001b[0m \u001b[39m# If we don't have any hooks, we want to skip the rest of the logic in\u001b[39;00m\n\u001b[0;32m   1191\u001b[0m \u001b[39m# this function, and just call forward.\u001b[39;00m\n\u001b[0;32m   1192\u001b[0m \u001b[39mif\u001b[39;00m \u001b[39mnot\u001b[39;00m (\u001b[39mself\u001b[39m\u001b[39m.\u001b[39m_backward_hooks \u001b[39mor\u001b[39;00m \u001b[39mself\u001b[39m\u001b[39m.\u001b[39m_forward_hooks \u001b[39mor\u001b[39;00m \u001b[39mself\u001b[39m\u001b[39m.\u001b[39m_forward_pre_hooks \u001b[39mor\u001b[39;00m _global_backward_hooks\n\u001b[0;32m   1193\u001b[0m         \u001b[39mor\u001b[39;00m _global_forward_hooks \u001b[39mor\u001b[39;00m _global_forward_pre_hooks):\n\u001b[1;32m-> 1194\u001b[0m     \u001b[39mreturn\u001b[39;00m forward_call(\u001b[39m*\u001b[39m\u001b[39minput\u001b[39m, \u001b[39m*\u001b[39m\u001b[39m*\u001b[39mkwargs)\n\u001b[0;32m   1195\u001b[0m \u001b[39m# Do not call functions when jit is used\u001b[39;00m\n\u001b[0;32m   1196\u001b[0m full_backward_hooks, non_full_backward_hooks \u001b[39m=\u001b[39m [], []\n",
      "File \u001b[1;32mc:\\Users\\nachi\\.conda\\envs\\GPU\\lib\\site-packages\\torch\\nn\\modules\\container.py:204\u001b[0m, in \u001b[0;36mSequential.forward\u001b[1;34m(self, input)\u001b[0m\n\u001b[0;32m    202\u001b[0m \u001b[39mdef\u001b[39;00m \u001b[39mforward\u001b[39m(\u001b[39mself\u001b[39m, \u001b[39minput\u001b[39m):\n\u001b[0;32m    203\u001b[0m     \u001b[39mfor\u001b[39;00m module \u001b[39min\u001b[39;00m \u001b[39mself\u001b[39m:\n\u001b[1;32m--> 204\u001b[0m         \u001b[39minput\u001b[39m \u001b[39m=\u001b[39m module(\u001b[39minput\u001b[39;49m)\n\u001b[0;32m    205\u001b[0m     \u001b[39mreturn\u001b[39;00m \u001b[39minput\u001b[39m\n",
      "File \u001b[1;32mc:\\Users\\nachi\\.conda\\envs\\GPU\\lib\\site-packages\\torch\\nn\\modules\\module.py:1194\u001b[0m, in \u001b[0;36mModule._call_impl\u001b[1;34m(self, *input, **kwargs)\u001b[0m\n\u001b[0;32m   1190\u001b[0m \u001b[39m# If we don't have any hooks, we want to skip the rest of the logic in\u001b[39;00m\n\u001b[0;32m   1191\u001b[0m \u001b[39m# this function, and just call forward.\u001b[39;00m\n\u001b[0;32m   1192\u001b[0m \u001b[39mif\u001b[39;00m \u001b[39mnot\u001b[39;00m (\u001b[39mself\u001b[39m\u001b[39m.\u001b[39m_backward_hooks \u001b[39mor\u001b[39;00m \u001b[39mself\u001b[39m\u001b[39m.\u001b[39m_forward_hooks \u001b[39mor\u001b[39;00m \u001b[39mself\u001b[39m\u001b[39m.\u001b[39m_forward_pre_hooks \u001b[39mor\u001b[39;00m _global_backward_hooks\n\u001b[0;32m   1193\u001b[0m         \u001b[39mor\u001b[39;00m _global_forward_hooks \u001b[39mor\u001b[39;00m _global_forward_pre_hooks):\n\u001b[1;32m-> 1194\u001b[0m     \u001b[39mreturn\u001b[39;00m forward_call(\u001b[39m*\u001b[39m\u001b[39minput\u001b[39m, \u001b[39m*\u001b[39m\u001b[39m*\u001b[39mkwargs)\n\u001b[0;32m   1195\u001b[0m \u001b[39m# Do not call functions when jit is used\u001b[39;00m\n\u001b[0;32m   1196\u001b[0m full_backward_hooks, non_full_backward_hooks \u001b[39m=\u001b[39m [], []\n",
      "File \u001b[1;32mc:\\Users\\nachi\\.conda\\envs\\GPU\\lib\\site-packages\\torch\\nn\\modules\\linear.py:114\u001b[0m, in \u001b[0;36mLinear.forward\u001b[1;34m(self, input)\u001b[0m\n\u001b[0;32m    113\u001b[0m \u001b[39mdef\u001b[39;00m \u001b[39mforward\u001b[39m(\u001b[39mself\u001b[39m, \u001b[39minput\u001b[39m: Tensor) \u001b[39m-\u001b[39m\u001b[39m>\u001b[39m Tensor:\n\u001b[1;32m--> 114\u001b[0m     \u001b[39mreturn\u001b[39;00m F\u001b[39m.\u001b[39;49mlinear(\u001b[39minput\u001b[39;49m, \u001b[39mself\u001b[39;49m\u001b[39m.\u001b[39;49mweight, \u001b[39mself\u001b[39;49m\u001b[39m.\u001b[39;49mbias)\n",
      "\u001b[1;31mRuntimeError\u001b[0m: mat1 and mat2 shapes cannot be multiplied (10x512 and 25088x4096)"
     ]
    }
   ],
   "source": [
    "#net = Net()\n",
    "#net.load_state_dict(torch.load(PATH))\n",
    "\n",
    "dataiter = iter(test_loader)\n",
    "data = next(dataiter)\n",
    "test_images, test_labels = data\n",
    "\n",
    "# print test_images\n",
    "imshow(torchvision.utils.make_grid(test_images))\n",
    "print(\"GroundTruth: \", \" \".join(f\"{classes[test_labels[j]]:5s}\" for j in range(batch_size)))\n",
    "\n",
    "test_images, test_labels = data[0].to(device), data[1].to(device)\n",
    "outputs = net(test_images)\n",
    "_, predicted = torch.max(outputs, 1)\n",
    "\n",
    "print('Predicted: ', ' '.join(f'{classes[predicted[j]]:5s}'\n",
    "                              for j in range(4)))\n",
    "\n",
    "correct = 0\n",
    "total = 0\n",
    "\n",
    "# since we're not training, we don't need to calculate the gradients for our outputs\n",
    "with torch.no_grad():\n",
    "    for data in test_loader:\n",
    "        test_images, test_labels = data[0].to(device), data[1].to(device)\n",
    "        # calculate outputs by running test_images through the network\n",
    "        outputs = net(test_images)\n",
    "        # the class with the highest energy is what we choose as prediction\n",
    "        _, predicted = torch.max(outputs.data, 1)\n",
    "        total += test_labels.size(0)\n",
    "        correct += (predicted == test_labels).sum().item()\n",
    "\n",
    "print(f\"Accuracy of the network on the 10000 test test_images: {100 * correct // total} %\")\n",
    "\n",
    "# prepare to count predictions for each class\n",
    "correct_pred = {classname: 0 for classname in classes}\n",
    "total_pred = {classname: 0 for classname in classes}\n",
    "\n",
    "# again no gradients needed\n",
    "with torch.no_grad():\n",
    "    for data in test_loader:\n",
    "        test_images, test_labels = data[0].to(device), data[1].to(device)\n",
    "        outputs = net(test_images)\n",
    "        _, predictions = torch.max(outputs, 1)\n",
    "        # collect the correct predictions for each class\n",
    "        for label, prediction in zip(test_labels, predictions):\n",
    "            if label == prediction:\n",
    "                correct_pred[classes[label]] += 1\n",
    "            total_pred[classes[label]] += 1\n",
    "\n",
    "\n",
    "# print accuracy for each class\n",
    "for classname, correct_count in correct_pred.items():\n",
    "    accuracy = 100 * float(correct_count) / total_pred[classname]\n",
    "    print(f\"Accuracy for class: {classname:5s} is {accuracy:.1f} %\")\n"
   ]
  },
  {
   "cell_type": "code",
   "execution_count": null,
   "metadata": {},
   "outputs": [],
   "source": []
  }
 ],
 "metadata": {
  "kernelspec": {
   "display_name": "TDVI",
   "language": "python",
   "name": "python3"
  },
  "language_info": {
   "codemirror_mode": {
    "name": "ipython",
    "version": 3
   },
   "file_extension": ".py",
   "mimetype": "text/x-python",
   "name": "python",
   "nbconvert_exporter": "python",
   "pygments_lexer": "ipython3",
   "version": "3.9.17"
  }
 },
 "nbformat": 4,
 "nbformat_minor": 2
}
